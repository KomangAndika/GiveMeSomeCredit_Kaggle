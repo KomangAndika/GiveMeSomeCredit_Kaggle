{
 "cells": [
  {
   "cell_type": "markdown",
   "metadata": {},
   "source": [
    "link kaggle notebook: https://www.kaggle.com/code/komangandika/givemecredit-komang"
   ]
  },
  {
   "cell_type": "markdown",
   "metadata": {},
   "source": [
    "competition link: https://www.kaggle.com/competitions/GiveMeSomeCredit/overview"
   ]
  },
  {
   "cell_type": "code",
   "execution_count": 1,
   "id": "a29071f5",
   "metadata": {
    "_cell_guid": "b1076dfc-b9ad-4769-8c92-a6c4dae69d19",
    "_uuid": "8f2839f25d086af736a60e9eeb907d3b93b6e0e5",
    "execution": {
     "iopub.execute_input": "2023-10-31T08:54:55.265773Z",
     "iopub.status.busy": "2023-10-31T08:54:55.265190Z",
     "iopub.status.idle": "2023-10-31T08:54:55.650800Z",
     "shell.execute_reply": "2023-10-31T08:54:55.650110Z"
    },
    "papermill": {
     "duration": 0.416114,
     "end_time": "2023-10-31T08:54:55.653222",
     "exception": false,
     "start_time": "2023-10-31T08:54:55.237108",
     "status": "completed"
    },
    "tags": []
   },
   "outputs": [
    {
     "name": "stdout",
     "output_type": "stream",
     "text": [
      "/kaggle/input/GiveMeSomeCredit/Data Dictionary.xls\n",
      "/kaggle/input/GiveMeSomeCredit/cs-training.csv\n",
      "/kaggle/input/GiveMeSomeCredit/sampleEntry.csv\n",
      "/kaggle/input/GiveMeSomeCredit/cs-test.csv\n"
     ]
    }
   ],
   "source": [
    "import numpy as np # linear algebra\n",
    "import pandas as pd # data processing, CSV file I/O (e.g. pd.read_csv)\n",
    "\n",
    "# Input data files are available in the read-only \"../input/\" directory\n",
    "# For example, running this (by clicking run or pressing Shift+Enter) will list all files under the input directory\n",
    "\n",
    "import os\n",
    "for dirname, _, filenames in os.walk('/kaggle/input'):\n",
    "    for filename in filenames:\n",
    "        print(os.path.join(dirname, filename))\n",
    "\n",
    "# You can write up to 20GB to the current directory (/kaggle/working/) that gets preserved as output when you create a version using \"Save & Run All\" \n",
    "# You can also write temporary files to /kaggle/temp/, but they won't be saved outside of the current session"
   ]
  },
  {
   "cell_type": "markdown",
   "id": "f7c042ff",
   "metadata": {
    "papermill": {
     "duration": 0.025117,
     "end_time": "2023-10-31T08:54:55.704272",
     "exception": false,
     "start_time": "2023-10-31T08:54:55.679155",
     "status": "completed"
    },
    "tags": []
   },
   "source": [
    "## Importing Data"
   ]
  },
  {
   "cell_type": "code",
   "execution_count": 2,
   "id": "8d1cef31",
   "metadata": {
    "execution": {
     "iopub.execute_input": "2023-10-31T08:54:55.756797Z",
     "iopub.status.busy": "2023-10-31T08:54:55.756270Z",
     "iopub.status.idle": "2023-10-31T08:55:09.524907Z",
     "shell.execute_reply": "2023-10-31T08:55:09.523580Z"
    },
    "papermill": {
     "duration": 13.796943,
     "end_time": "2023-10-31T08:55:09.527400",
     "exception": false,
     "start_time": "2023-10-31T08:54:55.730457",
     "status": "completed"
    },
    "tags": []
   },
   "outputs": [
    {
     "name": "stdout",
     "output_type": "stream",
     "text": [
      "Collecting xlrd\r\n",
      "  Downloading xlrd-2.0.1-py2.py3-none-any.whl (96 kB)\r\n",
      "\u001b[2K     \u001b[90m━━━━━━━━━━━━━━━━━━━━━━━━━━━━━━━━━━━━━━━━\u001b[0m \u001b[32m96.5/96.5 kB\u001b[0m \u001b[31m3.3 MB/s\u001b[0m eta \u001b[36m0:00:00\u001b[0m\r\n",
      "\u001b[?25hInstalling collected packages: xlrd\r\n",
      "Successfully installed xlrd-2.0.1\r\n",
      "Note: you may need to restart the kernel to use updated packages.\n"
     ]
    }
   ],
   "source": [
    "pip install xlrd"
   ]
  },
  {
   "cell_type": "code",
   "execution_count": 3,
   "id": "0a109cc1",
   "metadata": {
    "execution": {
     "iopub.execute_input": "2023-10-31T08:55:09.580726Z",
     "iopub.status.busy": "2023-10-31T08:55:09.579949Z",
     "iopub.status.idle": "2023-10-31T08:55:09.627377Z",
     "shell.execute_reply": "2023-10-31T08:55:09.626293Z"
    },
    "papermill": {
     "duration": 0.076679,
     "end_time": "2023-10-31T08:55:09.629584",
     "exception": false,
     "start_time": "2023-10-31T08:55:09.552905",
     "status": "completed"
    },
    "tags": []
   },
   "outputs": [
    {
     "data": {
      "text/html": [
       "<div>\n",
       "<style scoped>\n",
       "    .dataframe tbody tr th:only-of-type {\n",
       "        vertical-align: middle;\n",
       "    }\n",
       "\n",
       "    .dataframe tbody tr th {\n",
       "        vertical-align: top;\n",
       "    }\n",
       "\n",
       "    .dataframe thead th {\n",
       "        text-align: right;\n",
       "    }\n",
       "</style>\n",
       "<table border=\"1\" class=\"dataframe\">\n",
       "  <thead>\n",
       "    <tr style=\"text-align: right;\">\n",
       "      <th></th>\n",
       "      <th>Variable Name</th>\n",
       "      <th>Description</th>\n",
       "      <th>Type</th>\n",
       "    </tr>\n",
       "  </thead>\n",
       "  <tbody>\n",
       "    <tr>\n",
       "      <th>0</th>\n",
       "      <td>SeriousDlqin2yrs</td>\n",
       "      <td>Person experienced 90 days past due delinquenc...</td>\n",
       "      <td>Y/N</td>\n",
       "    </tr>\n",
       "    <tr>\n",
       "      <th>1</th>\n",
       "      <td>RevolvingUtilizationOfUnsecuredLines</td>\n",
       "      <td>Total balance on credit cards and personal lin...</td>\n",
       "      <td>percentage</td>\n",
       "    </tr>\n",
       "    <tr>\n",
       "      <th>2</th>\n",
       "      <td>age</td>\n",
       "      <td>Age of borrower in years</td>\n",
       "      <td>integer</td>\n",
       "    </tr>\n",
       "    <tr>\n",
       "      <th>3</th>\n",
       "      <td>NumberOfTime30-59DaysPastDueNotWorse</td>\n",
       "      <td>Number of times borrower has been 30-59 days p...</td>\n",
       "      <td>integer</td>\n",
       "    </tr>\n",
       "    <tr>\n",
       "      <th>4</th>\n",
       "      <td>DebtRatio</td>\n",
       "      <td>Monthly debt payments, alimony,living costs di...</td>\n",
       "      <td>percentage</td>\n",
       "    </tr>\n",
       "    <tr>\n",
       "      <th>5</th>\n",
       "      <td>MonthlyIncome</td>\n",
       "      <td>Monthly income</td>\n",
       "      <td>real</td>\n",
       "    </tr>\n",
       "    <tr>\n",
       "      <th>6</th>\n",
       "      <td>NumberOfOpenCreditLinesAndLoans</td>\n",
       "      <td>Number of Open loans (installment like car loa...</td>\n",
       "      <td>integer</td>\n",
       "    </tr>\n",
       "    <tr>\n",
       "      <th>7</th>\n",
       "      <td>NumberOfTimes90DaysLate</td>\n",
       "      <td>Number of times borrower has been 90 days or m...</td>\n",
       "      <td>integer</td>\n",
       "    </tr>\n",
       "    <tr>\n",
       "      <th>8</th>\n",
       "      <td>NumberRealEstateLoansOrLines</td>\n",
       "      <td>Number of mortgage and real estate loans inclu...</td>\n",
       "      <td>integer</td>\n",
       "    </tr>\n",
       "    <tr>\n",
       "      <th>9</th>\n",
       "      <td>NumberOfTime60-89DaysPastDueNotWorse</td>\n",
       "      <td>Number of times borrower has been 60-89 days p...</td>\n",
       "      <td>integer</td>\n",
       "    </tr>\n",
       "    <tr>\n",
       "      <th>10</th>\n",
       "      <td>NumberOfDependents</td>\n",
       "      <td>Number of dependents in family excluding thems...</td>\n",
       "      <td>integer</td>\n",
       "    </tr>\n",
       "  </tbody>\n",
       "</table>\n",
       "</div>"
      ],
      "text/plain": [
       "                           Variable Name  \\\n",
       "0                       SeriousDlqin2yrs   \n",
       "1   RevolvingUtilizationOfUnsecuredLines   \n",
       "2                                    age   \n",
       "3   NumberOfTime30-59DaysPastDueNotWorse   \n",
       "4                              DebtRatio   \n",
       "5                          MonthlyIncome   \n",
       "6        NumberOfOpenCreditLinesAndLoans   \n",
       "7                NumberOfTimes90DaysLate   \n",
       "8           NumberRealEstateLoansOrLines   \n",
       "9   NumberOfTime60-89DaysPastDueNotWorse   \n",
       "10                    NumberOfDependents   \n",
       "\n",
       "                                          Description        Type  \n",
       "0   Person experienced 90 days past due delinquenc...         Y/N  \n",
       "1   Total balance on credit cards and personal lin...  percentage  \n",
       "2                            Age of borrower in years     integer  \n",
       "3   Number of times borrower has been 30-59 days p...     integer  \n",
       "4   Monthly debt payments, alimony,living costs di...  percentage  \n",
       "5                                      Monthly income        real  \n",
       "6   Number of Open loans (installment like car loa...     integer  \n",
       "7   Number of times borrower has been 90 days or m...     integer  \n",
       "8   Number of mortgage and real estate loans inclu...     integer  \n",
       "9   Number of times borrower has been 60-89 days p...     integer  \n",
       "10  Number of dependents in family excluding thems...     integer  "
      ]
     },
     "execution_count": 3,
     "metadata": {},
     "output_type": "execute_result"
    }
   ],
   "source": [
    "import xlrd\n",
    "dictionary = pd.read_excel(\"/kaggle/input/GiveMeSomeCredit/Data Dictionary.xls\",header=1)\n",
    "dictionary"
   ]
  },
  {
   "cell_type": "markdown",
   "id": "9f085998",
   "metadata": {
    "papermill": {
     "duration": 0.026446,
     "end_time": "2023-10-31T08:55:09.682518",
     "exception": false,
     "start_time": "2023-10-31T08:55:09.656072",
     "status": "completed"
    },
    "tags": []
   },
   "source": [
    "As we can see from the data there is Data Dictionary on sheet 1 for the description of each variable or called Metadata. The sheet 2 and 3 are empty."
   ]
  },
  {
   "cell_type": "code",
   "execution_count": 4,
   "id": "91737e27",
   "metadata": {
    "execution": {
     "iopub.execute_input": "2023-10-31T08:55:09.792155Z",
     "iopub.status.busy": "2023-10-31T08:55:09.791741Z",
     "iopub.status.idle": "2023-10-31T08:55:10.134697Z",
     "shell.execute_reply": "2023-10-31T08:55:10.133592Z"
    },
    "papermill": {
     "duration": 0.428829,
     "end_time": "2023-10-31T08:55:10.137025",
     "exception": false,
     "start_time": "2023-10-31T08:55:09.708196",
     "status": "completed"
    },
    "tags": []
   },
   "outputs": [
    {
     "data": {
      "text/html": [
       "<div>\n",
       "<style scoped>\n",
       "    .dataframe tbody tr th:only-of-type {\n",
       "        vertical-align: middle;\n",
       "    }\n",
       "\n",
       "    .dataframe tbody tr th {\n",
       "        vertical-align: top;\n",
       "    }\n",
       "\n",
       "    .dataframe thead th {\n",
       "        text-align: right;\n",
       "    }\n",
       "</style>\n",
       "<table border=\"1\" class=\"dataframe\">\n",
       "  <thead>\n",
       "    <tr style=\"text-align: right;\">\n",
       "      <th></th>\n",
       "      <th>Unnamed: 0</th>\n",
       "      <th>SeriousDlqin2yrs</th>\n",
       "      <th>RevolvingUtilizationOfUnsecuredLines</th>\n",
       "      <th>age</th>\n",
       "      <th>NumberOfTime30-59DaysPastDueNotWorse</th>\n",
       "      <th>DebtRatio</th>\n",
       "      <th>MonthlyIncome</th>\n",
       "      <th>NumberOfOpenCreditLinesAndLoans</th>\n",
       "      <th>NumberOfTimes90DaysLate</th>\n",
       "      <th>NumberRealEstateLoansOrLines</th>\n",
       "      <th>NumberOfTime60-89DaysPastDueNotWorse</th>\n",
       "      <th>NumberOfDependents</th>\n",
       "    </tr>\n",
       "  </thead>\n",
       "  <tbody>\n",
       "    <tr>\n",
       "      <th>0</th>\n",
       "      <td>1</td>\n",
       "      <td>1</td>\n",
       "      <td>0.766127</td>\n",
       "      <td>45</td>\n",
       "      <td>2</td>\n",
       "      <td>0.802982</td>\n",
       "      <td>9120.0</td>\n",
       "      <td>13</td>\n",
       "      <td>0</td>\n",
       "      <td>6</td>\n",
       "      <td>0</td>\n",
       "      <td>2.0</td>\n",
       "    </tr>\n",
       "    <tr>\n",
       "      <th>1</th>\n",
       "      <td>2</td>\n",
       "      <td>0</td>\n",
       "      <td>0.957151</td>\n",
       "      <td>40</td>\n",
       "      <td>0</td>\n",
       "      <td>0.121876</td>\n",
       "      <td>2600.0</td>\n",
       "      <td>4</td>\n",
       "      <td>0</td>\n",
       "      <td>0</td>\n",
       "      <td>0</td>\n",
       "      <td>1.0</td>\n",
       "    </tr>\n",
       "    <tr>\n",
       "      <th>2</th>\n",
       "      <td>3</td>\n",
       "      <td>0</td>\n",
       "      <td>0.658180</td>\n",
       "      <td>38</td>\n",
       "      <td>1</td>\n",
       "      <td>0.085113</td>\n",
       "      <td>3042.0</td>\n",
       "      <td>2</td>\n",
       "      <td>1</td>\n",
       "      <td>0</td>\n",
       "      <td>0</td>\n",
       "      <td>0.0</td>\n",
       "    </tr>\n",
       "    <tr>\n",
       "      <th>3</th>\n",
       "      <td>4</td>\n",
       "      <td>0</td>\n",
       "      <td>0.233810</td>\n",
       "      <td>30</td>\n",
       "      <td>0</td>\n",
       "      <td>0.036050</td>\n",
       "      <td>3300.0</td>\n",
       "      <td>5</td>\n",
       "      <td>0</td>\n",
       "      <td>0</td>\n",
       "      <td>0</td>\n",
       "      <td>0.0</td>\n",
       "    </tr>\n",
       "    <tr>\n",
       "      <th>4</th>\n",
       "      <td>5</td>\n",
       "      <td>0</td>\n",
       "      <td>0.907239</td>\n",
       "      <td>49</td>\n",
       "      <td>1</td>\n",
       "      <td>0.024926</td>\n",
       "      <td>63588.0</td>\n",
       "      <td>7</td>\n",
       "      <td>0</td>\n",
       "      <td>1</td>\n",
       "      <td>0</td>\n",
       "      <td>0.0</td>\n",
       "    </tr>\n",
       "  </tbody>\n",
       "</table>\n",
       "</div>"
      ],
      "text/plain": [
       "   Unnamed: 0  SeriousDlqin2yrs  RevolvingUtilizationOfUnsecuredLines  age  \\\n",
       "0           1                 1                              0.766127   45   \n",
       "1           2                 0                              0.957151   40   \n",
       "2           3                 0                              0.658180   38   \n",
       "3           4                 0                              0.233810   30   \n",
       "4           5                 0                              0.907239   49   \n",
       "\n",
       "   NumberOfTime30-59DaysPastDueNotWorse  DebtRatio  MonthlyIncome  \\\n",
       "0                                     2   0.802982         9120.0   \n",
       "1                                     0   0.121876         2600.0   \n",
       "2                                     1   0.085113         3042.0   \n",
       "3                                     0   0.036050         3300.0   \n",
       "4                                     1   0.024926        63588.0   \n",
       "\n",
       "   NumberOfOpenCreditLinesAndLoans  NumberOfTimes90DaysLate  \\\n",
       "0                               13                        0   \n",
       "1                                4                        0   \n",
       "2                                2                        1   \n",
       "3                                5                        0   \n",
       "4                                7                        0   \n",
       "\n",
       "   NumberRealEstateLoansOrLines  NumberOfTime60-89DaysPastDueNotWorse  \\\n",
       "0                             6                                     0   \n",
       "1                             0                                     0   \n",
       "2                             0                                     0   \n",
       "3                             0                                     0   \n",
       "4                             1                                     0   \n",
       "\n",
       "   NumberOfDependents  \n",
       "0                 2.0  \n",
       "1                 1.0  \n",
       "2                 0.0  \n",
       "3                 0.0  \n",
       "4                 0.0  "
      ]
     },
     "execution_count": 4,
     "metadata": {},
     "output_type": "execute_result"
    }
   ],
   "source": [
    "df = pd.read_csv(\"/kaggle/input/GiveMeSomeCredit/cs-training.csv\")\n",
    "df.head()"
   ]
  },
  {
   "cell_type": "code",
   "execution_count": 5,
   "id": "eeea2063",
   "metadata": {
    "execution": {
     "iopub.execute_input": "2023-10-31T08:55:10.193024Z",
     "iopub.status.busy": "2023-10-31T08:55:10.192411Z",
     "iopub.status.idle": "2023-10-31T08:55:10.198940Z",
     "shell.execute_reply": "2023-10-31T08:55:10.198055Z"
    },
    "papermill": {
     "duration": 0.037104,
     "end_time": "2023-10-31T08:55:10.201256",
     "exception": false,
     "start_time": "2023-10-31T08:55:10.164152",
     "status": "completed"
    },
    "tags": []
   },
   "outputs": [
    {
     "data": {
      "text/plain": [
       "(150000, 12)"
      ]
     },
     "execution_count": 5,
     "metadata": {},
     "output_type": "execute_result"
    }
   ],
   "source": [
    "df.shape"
   ]
  },
  {
   "cell_type": "markdown",
   "id": "6532b863",
   "metadata": {
    "papermill": {
     "duration": 0.026895,
     "end_time": "2023-10-31T08:55:10.255902",
     "exception": false,
     "start_time": "2023-10-31T08:55:10.229007",
     "status": "completed"
    },
    "tags": []
   },
   "source": [
    "This is the training dataset, and we can identify our target variable, 'SeriousDlqin2yrs,' which contains values indicating that this dataset serves as the training data. We see 'Unnamed: 0' which is a pretty redundant with the existence of indexing, we'll deal with it in EDA."
   ]
  },
  {
   "cell_type": "code",
   "execution_count": 6,
   "id": "cd09c050",
   "metadata": {
    "execution": {
     "iopub.execute_input": "2023-10-31T08:55:10.312063Z",
     "iopub.status.busy": "2023-10-31T08:55:10.311432Z",
     "iopub.status.idle": "2023-10-31T08:55:10.524441Z",
     "shell.execute_reply": "2023-10-31T08:55:10.523325Z"
    },
    "papermill": {
     "duration": 0.243609,
     "end_time": "2023-10-31T08:55:10.526601",
     "exception": false,
     "start_time": "2023-10-31T08:55:10.282992",
     "status": "completed"
    },
    "tags": []
   },
   "outputs": [
    {
     "data": {
      "text/html": [
       "<div>\n",
       "<style scoped>\n",
       "    .dataframe tbody tr th:only-of-type {\n",
       "        vertical-align: middle;\n",
       "    }\n",
       "\n",
       "    .dataframe tbody tr th {\n",
       "        vertical-align: top;\n",
       "    }\n",
       "\n",
       "    .dataframe thead th {\n",
       "        text-align: right;\n",
       "    }\n",
       "</style>\n",
       "<table border=\"1\" class=\"dataframe\">\n",
       "  <thead>\n",
       "    <tr style=\"text-align: right;\">\n",
       "      <th></th>\n",
       "      <th>Unnamed: 0</th>\n",
       "      <th>SeriousDlqin2yrs</th>\n",
       "      <th>RevolvingUtilizationOfUnsecuredLines</th>\n",
       "      <th>age</th>\n",
       "      <th>NumberOfTime30-59DaysPastDueNotWorse</th>\n",
       "      <th>DebtRatio</th>\n",
       "      <th>MonthlyIncome</th>\n",
       "      <th>NumberOfOpenCreditLinesAndLoans</th>\n",
       "      <th>NumberOfTimes90DaysLate</th>\n",
       "      <th>NumberRealEstateLoansOrLines</th>\n",
       "      <th>NumberOfTime60-89DaysPastDueNotWorse</th>\n",
       "      <th>NumberOfDependents</th>\n",
       "    </tr>\n",
       "  </thead>\n",
       "  <tbody>\n",
       "    <tr>\n",
       "      <th>0</th>\n",
       "      <td>1</td>\n",
       "      <td>NaN</td>\n",
       "      <td>0.885519</td>\n",
       "      <td>43</td>\n",
       "      <td>0</td>\n",
       "      <td>0.177513</td>\n",
       "      <td>5700.0</td>\n",
       "      <td>4</td>\n",
       "      <td>0</td>\n",
       "      <td>0</td>\n",
       "      <td>0</td>\n",
       "      <td>0.0</td>\n",
       "    </tr>\n",
       "    <tr>\n",
       "      <th>1</th>\n",
       "      <td>2</td>\n",
       "      <td>NaN</td>\n",
       "      <td>0.463295</td>\n",
       "      <td>57</td>\n",
       "      <td>0</td>\n",
       "      <td>0.527237</td>\n",
       "      <td>9141.0</td>\n",
       "      <td>15</td>\n",
       "      <td>0</td>\n",
       "      <td>4</td>\n",
       "      <td>0</td>\n",
       "      <td>2.0</td>\n",
       "    </tr>\n",
       "    <tr>\n",
       "      <th>2</th>\n",
       "      <td>3</td>\n",
       "      <td>NaN</td>\n",
       "      <td>0.043275</td>\n",
       "      <td>59</td>\n",
       "      <td>0</td>\n",
       "      <td>0.687648</td>\n",
       "      <td>5083.0</td>\n",
       "      <td>12</td>\n",
       "      <td>0</td>\n",
       "      <td>1</td>\n",
       "      <td>0</td>\n",
       "      <td>2.0</td>\n",
       "    </tr>\n",
       "    <tr>\n",
       "      <th>3</th>\n",
       "      <td>4</td>\n",
       "      <td>NaN</td>\n",
       "      <td>0.280308</td>\n",
       "      <td>38</td>\n",
       "      <td>1</td>\n",
       "      <td>0.925961</td>\n",
       "      <td>3200.0</td>\n",
       "      <td>7</td>\n",
       "      <td>0</td>\n",
       "      <td>2</td>\n",
       "      <td>0</td>\n",
       "      <td>0.0</td>\n",
       "    </tr>\n",
       "    <tr>\n",
       "      <th>4</th>\n",
       "      <td>5</td>\n",
       "      <td>NaN</td>\n",
       "      <td>1.000000</td>\n",
       "      <td>27</td>\n",
       "      <td>0</td>\n",
       "      <td>0.019917</td>\n",
       "      <td>3865.0</td>\n",
       "      <td>4</td>\n",
       "      <td>0</td>\n",
       "      <td>0</td>\n",
       "      <td>0</td>\n",
       "      <td>1.0</td>\n",
       "    </tr>\n",
       "  </tbody>\n",
       "</table>\n",
       "</div>"
      ],
      "text/plain": [
       "   Unnamed: 0  SeriousDlqin2yrs  RevolvingUtilizationOfUnsecuredLines  age  \\\n",
       "0           1               NaN                              0.885519   43   \n",
       "1           2               NaN                              0.463295   57   \n",
       "2           3               NaN                              0.043275   59   \n",
       "3           4               NaN                              0.280308   38   \n",
       "4           5               NaN                              1.000000   27   \n",
       "\n",
       "   NumberOfTime30-59DaysPastDueNotWorse  DebtRatio  MonthlyIncome  \\\n",
       "0                                     0   0.177513         5700.0   \n",
       "1                                     0   0.527237         9141.0   \n",
       "2                                     0   0.687648         5083.0   \n",
       "3                                     1   0.925961         3200.0   \n",
       "4                                     0   0.019917         3865.0   \n",
       "\n",
       "   NumberOfOpenCreditLinesAndLoans  NumberOfTimes90DaysLate  \\\n",
       "0                                4                        0   \n",
       "1                               15                        0   \n",
       "2                               12                        0   \n",
       "3                                7                        0   \n",
       "4                                4                        0   \n",
       "\n",
       "   NumberRealEstateLoansOrLines  NumberOfTime60-89DaysPastDueNotWorse  \\\n",
       "0                             0                                     0   \n",
       "1                             4                                     0   \n",
       "2                             1                                     0   \n",
       "3                             2                                     0   \n",
       "4                             0                                     0   \n",
       "\n",
       "   NumberOfDependents  \n",
       "0                 0.0  \n",
       "1                 2.0  \n",
       "2                 2.0  \n",
       "3                 0.0  \n",
       "4                 1.0  "
      ]
     },
     "execution_count": 6,
     "metadata": {},
     "output_type": "execute_result"
    }
   ],
   "source": [
    "df_test = pd.read_csv(\"/kaggle/input/GiveMeSomeCredit/cs-test.csv\")\n",
    "df_test.head()"
   ]
  },
  {
   "cell_type": "code",
   "execution_count": 7,
   "id": "45e3c351",
   "metadata": {
    "execution": {
     "iopub.execute_input": "2023-10-31T08:55:10.583735Z",
     "iopub.status.busy": "2023-10-31T08:55:10.582729Z",
     "iopub.status.idle": "2023-10-31T08:55:10.589070Z",
     "shell.execute_reply": "2023-10-31T08:55:10.587664Z"
    },
    "papermill": {
     "duration": 0.038746,
     "end_time": "2023-10-31T08:55:10.592631",
     "exception": false,
     "start_time": "2023-10-31T08:55:10.553885",
     "status": "completed"
    },
    "tags": []
   },
   "outputs": [
    {
     "data": {
      "text/plain": [
       "(101503, 12)"
      ]
     },
     "execution_count": 7,
     "metadata": {},
     "output_type": "execute_result"
    }
   ],
   "source": [
    "df_test.shape"
   ]
  },
  {
   "cell_type": "markdown",
   "id": "c32a8795",
   "metadata": {
    "papermill": {
     "duration": 0.027312,
     "end_time": "2023-10-31T08:55:10.649990",
     "exception": false,
     "start_time": "2023-10-31T08:55:10.622678",
     "status": "completed"
    },
    "tags": []
   },
   "source": [
    "This is the testing dataset, and we can indentify our target variable, 'SeriousDlqin2yrs,' which does not contain values indicating that this dataset serves as the testing data. We see 'Unnamed: 0' which is a pretty redundant with the existence of indexing, we'll deal with it in EDA."
   ]
  },
  {
   "cell_type": "code",
   "execution_count": 8,
   "id": "9aad1f5e",
   "metadata": {
    "execution": {
     "iopub.execute_input": "2023-10-31T08:55:10.710008Z",
     "iopub.status.busy": "2023-10-31T08:55:10.708980Z",
     "iopub.status.idle": "2023-10-31T08:55:10.781520Z",
     "shell.execute_reply": "2023-10-31T08:55:10.780446Z"
    },
    "papermill": {
     "duration": 0.104918,
     "end_time": "2023-10-31T08:55:10.783724",
     "exception": false,
     "start_time": "2023-10-31T08:55:10.678806",
     "status": "completed"
    },
    "tags": []
   },
   "outputs": [
    {
     "data": {
      "text/html": [
       "<div>\n",
       "<style scoped>\n",
       "    .dataframe tbody tr th:only-of-type {\n",
       "        vertical-align: middle;\n",
       "    }\n",
       "\n",
       "    .dataframe tbody tr th {\n",
       "        vertical-align: top;\n",
       "    }\n",
       "\n",
       "    .dataframe thead th {\n",
       "        text-align: right;\n",
       "    }\n",
       "</style>\n",
       "<table border=\"1\" class=\"dataframe\">\n",
       "  <thead>\n",
       "    <tr style=\"text-align: right;\">\n",
       "      <th></th>\n",
       "      <th>Id</th>\n",
       "      <th>Probability</th>\n",
       "    </tr>\n",
       "  </thead>\n",
       "  <tbody>\n",
       "    <tr>\n",
       "      <th>0</th>\n",
       "      <td>1</td>\n",
       "      <td>0.080807</td>\n",
       "    </tr>\n",
       "    <tr>\n",
       "      <th>1</th>\n",
       "      <td>2</td>\n",
       "      <td>0.040719</td>\n",
       "    </tr>\n",
       "    <tr>\n",
       "      <th>2</th>\n",
       "      <td>3</td>\n",
       "      <td>0.011968</td>\n",
       "    </tr>\n",
       "    <tr>\n",
       "      <th>3</th>\n",
       "      <td>4</td>\n",
       "      <td>0.067640</td>\n",
       "    </tr>\n",
       "    <tr>\n",
       "      <th>4</th>\n",
       "      <td>5</td>\n",
       "      <td>0.108264</td>\n",
       "    </tr>\n",
       "  </tbody>\n",
       "</table>\n",
       "</div>"
      ],
      "text/plain": [
       "   Id  Probability\n",
       "0   1     0.080807\n",
       "1   2     0.040719\n",
       "2   3     0.011968\n",
       "3   4     0.067640\n",
       "4   5     0.108264"
      ]
     },
     "execution_count": 8,
     "metadata": {},
     "output_type": "execute_result"
    }
   ],
   "source": [
    "sampleEn = pd.read_csv(\"/kaggle/input/GiveMeSomeCredit/sampleEntry.csv\")\n",
    "sampleEn.head()"
   ]
  },
  {
   "cell_type": "markdown",
   "id": "80ddbf9f",
   "metadata": {
    "papermill": {
     "duration": 0.027115,
     "end_time": "2023-10-31T08:55:10.841787",
     "exception": false,
     "start_time": "2023-10-31T08:55:10.814672",
     "status": "completed"
    },
    "tags": []
   },
   "source": [
    "This is the format for submission to the contest"
   ]
  },
  {
   "cell_type": "markdown",
   "id": "fc7eb8fb",
   "metadata": {
    "papermill": {
     "duration": 0.026878,
     "end_time": "2023-10-31T08:55:10.895742",
     "exception": false,
     "start_time": "2023-10-31T08:55:10.868864",
     "status": "completed"
    },
    "tags": []
   },
   "source": [
    "## Problem Understanding"
   ]
  },
  {
   "cell_type": "markdown",
   "id": "0905644d",
   "metadata": {
    "papermill": {
     "duration": 0.026717,
     "end_time": "2023-10-31T08:55:10.949697",
     "exception": false,
     "start_time": "2023-10-31T08:55:10.922980",
     "status": "completed"
    },
    "tags": []
   },
   "source": [
    "In this competition, the goal is to create a credit scoring model that predicts the likelihood of an individual experiencing financial distress in the next two years. This model aims to empower borrowers to make informed financial decisions, as banks rely on credit scoring algorithms to determine loan eligibility."
   ]
  },
  {
   "cell_type": "markdown",
   "id": "fa39297e",
   "metadata": {
    "papermill": {
     "duration": 0.027732,
     "end_time": "2023-10-31T08:55:11.005251",
     "exception": false,
     "start_time": "2023-10-31T08:55:10.977519",
     "status": "completed"
    },
    "tags": []
   },
   "source": [
    "## Exploratory Data Analysis (EDA)"
   ]
  },
  {
   "cell_type": "markdown",
   "id": "e508049c",
   "metadata": {
    "papermill": {
     "duration": 0.028123,
     "end_time": "2023-10-31T08:55:11.061058",
     "exception": false,
     "start_time": "2023-10-31T08:55:11.032935",
     "status": "completed"
    },
    "tags": []
   },
   "source": [
    "We need to do data cleaning both in training and testing dataset"
   ]
  },
  {
   "cell_type": "code",
   "execution_count": 9,
   "id": "8f5c0871",
   "metadata": {
    "execution": {
     "iopub.execute_input": "2023-10-31T08:55:11.118651Z",
     "iopub.status.busy": "2023-10-31T08:55:11.117938Z",
     "iopub.status.idle": "2023-10-31T08:55:11.133868Z",
     "shell.execute_reply": "2023-10-31T08:55:11.132785Z"
    },
    "papermill": {
     "duration": 0.047574,
     "end_time": "2023-10-31T08:55:11.136115",
     "exception": false,
     "start_time": "2023-10-31T08:55:11.088541",
     "status": "completed"
    },
    "tags": []
   },
   "outputs": [
    {
     "data": {
      "text/html": [
       "<div>\n",
       "<style scoped>\n",
       "    .dataframe tbody tr th:only-of-type {\n",
       "        vertical-align: middle;\n",
       "    }\n",
       "\n",
       "    .dataframe tbody tr th {\n",
       "        vertical-align: top;\n",
       "    }\n",
       "\n",
       "    .dataframe thead th {\n",
       "        text-align: right;\n",
       "    }\n",
       "</style>\n",
       "<table border=\"1\" class=\"dataframe\">\n",
       "  <thead>\n",
       "    <tr style=\"text-align: right;\">\n",
       "      <th></th>\n",
       "      <th>Unnamed: 0</th>\n",
       "      <th>SeriousDlqin2yrs</th>\n",
       "      <th>RevolvingUtilizationOfUnsecuredLines</th>\n",
       "      <th>age</th>\n",
       "      <th>NumberOfTime30-59DaysPastDueNotWorse</th>\n",
       "      <th>DebtRatio</th>\n",
       "      <th>MonthlyIncome</th>\n",
       "      <th>NumberOfOpenCreditLinesAndLoans</th>\n",
       "      <th>NumberOfTimes90DaysLate</th>\n",
       "      <th>NumberRealEstateLoansOrLines</th>\n",
       "      <th>NumberOfTime60-89DaysPastDueNotWorse</th>\n",
       "      <th>NumberOfDependents</th>\n",
       "    </tr>\n",
       "  </thead>\n",
       "  <tbody>\n",
       "    <tr>\n",
       "      <th>0</th>\n",
       "      <td>1</td>\n",
       "      <td>1</td>\n",
       "      <td>0.766127</td>\n",
       "      <td>45</td>\n",
       "      <td>2</td>\n",
       "      <td>0.802982</td>\n",
       "      <td>9120.0</td>\n",
       "      <td>13</td>\n",
       "      <td>0</td>\n",
       "      <td>6</td>\n",
       "      <td>0</td>\n",
       "      <td>2.0</td>\n",
       "    </tr>\n",
       "    <tr>\n",
       "      <th>1</th>\n",
       "      <td>2</td>\n",
       "      <td>0</td>\n",
       "      <td>0.957151</td>\n",
       "      <td>40</td>\n",
       "      <td>0</td>\n",
       "      <td>0.121876</td>\n",
       "      <td>2600.0</td>\n",
       "      <td>4</td>\n",
       "      <td>0</td>\n",
       "      <td>0</td>\n",
       "      <td>0</td>\n",
       "      <td>1.0</td>\n",
       "    </tr>\n",
       "    <tr>\n",
       "      <th>2</th>\n",
       "      <td>3</td>\n",
       "      <td>0</td>\n",
       "      <td>0.658180</td>\n",
       "      <td>38</td>\n",
       "      <td>1</td>\n",
       "      <td>0.085113</td>\n",
       "      <td>3042.0</td>\n",
       "      <td>2</td>\n",
       "      <td>1</td>\n",
       "      <td>0</td>\n",
       "      <td>0</td>\n",
       "      <td>0.0</td>\n",
       "    </tr>\n",
       "    <tr>\n",
       "      <th>3</th>\n",
       "      <td>4</td>\n",
       "      <td>0</td>\n",
       "      <td>0.233810</td>\n",
       "      <td>30</td>\n",
       "      <td>0</td>\n",
       "      <td>0.036050</td>\n",
       "      <td>3300.0</td>\n",
       "      <td>5</td>\n",
       "      <td>0</td>\n",
       "      <td>0</td>\n",
       "      <td>0</td>\n",
       "      <td>0.0</td>\n",
       "    </tr>\n",
       "    <tr>\n",
       "      <th>4</th>\n",
       "      <td>5</td>\n",
       "      <td>0</td>\n",
       "      <td>0.907239</td>\n",
       "      <td>49</td>\n",
       "      <td>1</td>\n",
       "      <td>0.024926</td>\n",
       "      <td>63588.0</td>\n",
       "      <td>7</td>\n",
       "      <td>0</td>\n",
       "      <td>1</td>\n",
       "      <td>0</td>\n",
       "      <td>0.0</td>\n",
       "    </tr>\n",
       "  </tbody>\n",
       "</table>\n",
       "</div>"
      ],
      "text/plain": [
       "   Unnamed: 0  SeriousDlqin2yrs  RevolvingUtilizationOfUnsecuredLines  age  \\\n",
       "0           1                 1                              0.766127   45   \n",
       "1           2                 0                              0.957151   40   \n",
       "2           3                 0                              0.658180   38   \n",
       "3           4                 0                              0.233810   30   \n",
       "4           5                 0                              0.907239   49   \n",
       "\n",
       "   NumberOfTime30-59DaysPastDueNotWorse  DebtRatio  MonthlyIncome  \\\n",
       "0                                     2   0.802982         9120.0   \n",
       "1                                     0   0.121876         2600.0   \n",
       "2                                     1   0.085113         3042.0   \n",
       "3                                     0   0.036050         3300.0   \n",
       "4                                     1   0.024926        63588.0   \n",
       "\n",
       "   NumberOfOpenCreditLinesAndLoans  NumberOfTimes90DaysLate  \\\n",
       "0                               13                        0   \n",
       "1                                4                        0   \n",
       "2                                2                        1   \n",
       "3                                5                        0   \n",
       "4                                7                        0   \n",
       "\n",
       "   NumberRealEstateLoansOrLines  NumberOfTime60-89DaysPastDueNotWorse  \\\n",
       "0                             6                                     0   \n",
       "1                             0                                     0   \n",
       "2                             0                                     0   \n",
       "3                             0                                     0   \n",
       "4                             1                                     0   \n",
       "\n",
       "   NumberOfDependents  \n",
       "0                 2.0  \n",
       "1                 1.0  \n",
       "2                 0.0  \n",
       "3                 0.0  \n",
       "4                 0.0  "
      ]
     },
     "execution_count": 9,
     "metadata": {},
     "output_type": "execute_result"
    }
   ],
   "source": [
    "df.head()"
   ]
  },
  {
   "cell_type": "code",
   "execution_count": 10,
   "id": "77d294fe",
   "metadata": {
    "execution": {
     "iopub.execute_input": "2023-10-31T08:55:11.193567Z",
     "iopub.status.busy": "2023-10-31T08:55:11.193229Z",
     "iopub.status.idle": "2023-10-31T08:55:11.210278Z",
     "shell.execute_reply": "2023-10-31T08:55:11.209198Z"
    },
    "papermill": {
     "duration": 0.047962,
     "end_time": "2023-10-31T08:55:11.212260",
     "exception": false,
     "start_time": "2023-10-31T08:55:11.164298",
     "status": "completed"
    },
    "tags": []
   },
   "outputs": [
    {
     "data": {
      "text/html": [
       "<div>\n",
       "<style scoped>\n",
       "    .dataframe tbody tr th:only-of-type {\n",
       "        vertical-align: middle;\n",
       "    }\n",
       "\n",
       "    .dataframe tbody tr th {\n",
       "        vertical-align: top;\n",
       "    }\n",
       "\n",
       "    .dataframe thead th {\n",
       "        text-align: right;\n",
       "    }\n",
       "</style>\n",
       "<table border=\"1\" class=\"dataframe\">\n",
       "  <thead>\n",
       "    <tr style=\"text-align: right;\">\n",
       "      <th></th>\n",
       "      <th>Unnamed: 0</th>\n",
       "      <th>SeriousDlqin2yrs</th>\n",
       "      <th>RevolvingUtilizationOfUnsecuredLines</th>\n",
       "      <th>age</th>\n",
       "      <th>NumberOfTime30-59DaysPastDueNotWorse</th>\n",
       "      <th>DebtRatio</th>\n",
       "      <th>MonthlyIncome</th>\n",
       "      <th>NumberOfOpenCreditLinesAndLoans</th>\n",
       "      <th>NumberOfTimes90DaysLate</th>\n",
       "      <th>NumberRealEstateLoansOrLines</th>\n",
       "      <th>NumberOfTime60-89DaysPastDueNotWorse</th>\n",
       "      <th>NumberOfDependents</th>\n",
       "    </tr>\n",
       "  </thead>\n",
       "  <tbody>\n",
       "    <tr>\n",
       "      <th>0</th>\n",
       "      <td>1</td>\n",
       "      <td>NaN</td>\n",
       "      <td>0.885519</td>\n",
       "      <td>43</td>\n",
       "      <td>0</td>\n",
       "      <td>0.177513</td>\n",
       "      <td>5700.0</td>\n",
       "      <td>4</td>\n",
       "      <td>0</td>\n",
       "      <td>0</td>\n",
       "      <td>0</td>\n",
       "      <td>0.0</td>\n",
       "    </tr>\n",
       "    <tr>\n",
       "      <th>1</th>\n",
       "      <td>2</td>\n",
       "      <td>NaN</td>\n",
       "      <td>0.463295</td>\n",
       "      <td>57</td>\n",
       "      <td>0</td>\n",
       "      <td>0.527237</td>\n",
       "      <td>9141.0</td>\n",
       "      <td>15</td>\n",
       "      <td>0</td>\n",
       "      <td>4</td>\n",
       "      <td>0</td>\n",
       "      <td>2.0</td>\n",
       "    </tr>\n",
       "    <tr>\n",
       "      <th>2</th>\n",
       "      <td>3</td>\n",
       "      <td>NaN</td>\n",
       "      <td>0.043275</td>\n",
       "      <td>59</td>\n",
       "      <td>0</td>\n",
       "      <td>0.687648</td>\n",
       "      <td>5083.0</td>\n",
       "      <td>12</td>\n",
       "      <td>0</td>\n",
       "      <td>1</td>\n",
       "      <td>0</td>\n",
       "      <td>2.0</td>\n",
       "    </tr>\n",
       "    <tr>\n",
       "      <th>3</th>\n",
       "      <td>4</td>\n",
       "      <td>NaN</td>\n",
       "      <td>0.280308</td>\n",
       "      <td>38</td>\n",
       "      <td>1</td>\n",
       "      <td>0.925961</td>\n",
       "      <td>3200.0</td>\n",
       "      <td>7</td>\n",
       "      <td>0</td>\n",
       "      <td>2</td>\n",
       "      <td>0</td>\n",
       "      <td>0.0</td>\n",
       "    </tr>\n",
       "    <tr>\n",
       "      <th>4</th>\n",
       "      <td>5</td>\n",
       "      <td>NaN</td>\n",
       "      <td>1.000000</td>\n",
       "      <td>27</td>\n",
       "      <td>0</td>\n",
       "      <td>0.019917</td>\n",
       "      <td>3865.0</td>\n",
       "      <td>4</td>\n",
       "      <td>0</td>\n",
       "      <td>0</td>\n",
       "      <td>0</td>\n",
       "      <td>1.0</td>\n",
       "    </tr>\n",
       "  </tbody>\n",
       "</table>\n",
       "</div>"
      ],
      "text/plain": [
       "   Unnamed: 0  SeriousDlqin2yrs  RevolvingUtilizationOfUnsecuredLines  age  \\\n",
       "0           1               NaN                              0.885519   43   \n",
       "1           2               NaN                              0.463295   57   \n",
       "2           3               NaN                              0.043275   59   \n",
       "3           4               NaN                              0.280308   38   \n",
       "4           5               NaN                              1.000000   27   \n",
       "\n",
       "   NumberOfTime30-59DaysPastDueNotWorse  DebtRatio  MonthlyIncome  \\\n",
       "0                                     0   0.177513         5700.0   \n",
       "1                                     0   0.527237         9141.0   \n",
       "2                                     0   0.687648         5083.0   \n",
       "3                                     1   0.925961         3200.0   \n",
       "4                                     0   0.019917         3865.0   \n",
       "\n",
       "   NumberOfOpenCreditLinesAndLoans  NumberOfTimes90DaysLate  \\\n",
       "0                                4                        0   \n",
       "1                               15                        0   \n",
       "2                               12                        0   \n",
       "3                                7                        0   \n",
       "4                                4                        0   \n",
       "\n",
       "   NumberRealEstateLoansOrLines  NumberOfTime60-89DaysPastDueNotWorse  \\\n",
       "0                             0                                     0   \n",
       "1                             4                                     0   \n",
       "2                             1                                     0   \n",
       "3                             2                                     0   \n",
       "4                             0                                     0   \n",
       "\n",
       "   NumberOfDependents  \n",
       "0                 0.0  \n",
       "1                 2.0  \n",
       "2                 2.0  \n",
       "3                 0.0  \n",
       "4                 1.0  "
      ]
     },
     "execution_count": 10,
     "metadata": {},
     "output_type": "execute_result"
    }
   ],
   "source": [
    "df_test.head()"
   ]
  },
  {
   "cell_type": "markdown",
   "id": "b4895006",
   "metadata": {
    "papermill": {
     "duration": 0.028894,
     "end_time": "2023-10-31T08:55:11.269863",
     "exception": false,
     "start_time": "2023-10-31T08:55:11.240969",
     "status": "completed"
    },
    "tags": []
   },
   "source": [
    "As evident in both the training and testing datasets, the 'Unnamed:0' column redundancy arises from the presence of pre-existing indexing in the dataset"
   ]
  },
  {
   "cell_type": "code",
   "execution_count": 11,
   "id": "b11fe81e",
   "metadata": {
    "execution": {
     "iopub.execute_input": "2023-10-31T08:55:11.331195Z",
     "iopub.status.busy": "2023-10-31T08:55:11.330477Z",
     "iopub.status.idle": "2023-10-31T08:55:11.347717Z",
     "shell.execute_reply": "2023-10-31T08:55:11.346613Z"
    },
    "papermill": {
     "duration": 0.050743,
     "end_time": "2023-10-31T08:55:11.350021",
     "exception": false,
     "start_time": "2023-10-31T08:55:11.299278",
     "status": "completed"
    },
    "tags": []
   },
   "outputs": [],
   "source": [
    "# Dropping 'Unnamed: 0' from training and testing dataset\n",
    "df.drop(['Unnamed: 0'],axis=1,inplace=True)\n",
    "df_test.drop(['Unnamed: 0'],axis=1,inplace=True)"
   ]
  },
  {
   "cell_type": "code",
   "execution_count": 12,
   "id": "c00e3829",
   "metadata": {
    "execution": {
     "iopub.execute_input": "2023-10-31T08:55:11.409437Z",
     "iopub.status.busy": "2023-10-31T08:55:11.408600Z",
     "iopub.status.idle": "2023-10-31T08:55:11.419682Z",
     "shell.execute_reply": "2023-10-31T08:55:11.418675Z"
    },
    "papermill": {
     "duration": 0.042786,
     "end_time": "2023-10-31T08:55:11.422103",
     "exception": false,
     "start_time": "2023-10-31T08:55:11.379317",
     "status": "completed"
    },
    "tags": []
   },
   "outputs": [
    {
     "data": {
      "text/plain": [
       "SeriousDlqin2yrs                            0\n",
       "RevolvingUtilizationOfUnsecuredLines        0\n",
       "age                                         0\n",
       "NumberOfTime30-59DaysPastDueNotWorse        0\n",
       "DebtRatio                                   0\n",
       "MonthlyIncome                           29731\n",
       "NumberOfOpenCreditLinesAndLoans             0\n",
       "NumberOfTimes90DaysLate                     0\n",
       "NumberRealEstateLoansOrLines                0\n",
       "NumberOfTime60-89DaysPastDueNotWorse        0\n",
       "NumberOfDependents                       3924\n",
       "dtype: int64"
      ]
     },
     "execution_count": 12,
     "metadata": {},
     "output_type": "execute_result"
    }
   ],
   "source": [
    "df.isna().sum()"
   ]
  },
  {
   "cell_type": "code",
   "execution_count": 13,
   "id": "279b9c1a",
   "metadata": {
    "execution": {
     "iopub.execute_input": "2023-10-31T08:55:11.480148Z",
     "iopub.status.busy": "2023-10-31T08:55:11.479770Z",
     "iopub.status.idle": "2023-10-31T08:55:11.489159Z",
     "shell.execute_reply": "2023-10-31T08:55:11.488294Z"
    },
    "papermill": {
     "duration": 0.040824,
     "end_time": "2023-10-31T08:55:11.491370",
     "exception": false,
     "start_time": "2023-10-31T08:55:11.450546",
     "status": "completed"
    },
    "tags": []
   },
   "outputs": [
    {
     "data": {
      "text/plain": [
       "SeriousDlqin2yrs                        101503\n",
       "RevolvingUtilizationOfUnsecuredLines         0\n",
       "age                                          0\n",
       "NumberOfTime30-59DaysPastDueNotWorse         0\n",
       "DebtRatio                                    0\n",
       "MonthlyIncome                            20103\n",
       "NumberOfOpenCreditLinesAndLoans              0\n",
       "NumberOfTimes90DaysLate                      0\n",
       "NumberRealEstateLoansOrLines                 0\n",
       "NumberOfTime60-89DaysPastDueNotWorse         0\n",
       "NumberOfDependents                        2626\n",
       "dtype: int64"
      ]
     },
     "execution_count": 13,
     "metadata": {},
     "output_type": "execute_result"
    }
   ],
   "source": [
    "df_test.isna().sum()"
   ]
  },
  {
   "cell_type": "code",
   "execution_count": 14,
   "id": "faf9706a",
   "metadata": {
    "execution": {
     "iopub.execute_input": "2023-10-31T08:55:11.552290Z",
     "iopub.status.busy": "2023-10-31T08:55:11.551543Z",
     "iopub.status.idle": "2023-10-31T08:55:11.562373Z",
     "shell.execute_reply": "2023-10-31T08:55:11.561305Z"
    },
    "papermill": {
     "duration": 0.044485,
     "end_time": "2023-10-31T08:55:11.564429",
     "exception": false,
     "start_time": "2023-10-31T08:55:11.519944",
     "status": "completed"
    },
    "tags": []
   },
   "outputs": [
    {
     "name": "stdout",
     "output_type": "stream",
     "text": [
      "The proportion of missing value in MonthlyIncome(Training): 19.820666666666668 %\n",
      "The proportion of missing value in NumberOfDependents(Training): 2.616 %\n",
      "\n",
      "\n",
      "The proportion of missing value in MonthlyIncome(Testing): 19.805325950957116 %\n",
      "The proportion of missing value in NumberOfDependents(Testing): 2.5871156517541354 %\n"
     ]
    }
   ],
   "source": [
    "percentage1 = (df['MonthlyIncome'].isna().sum()/len(df['MonthlyIncome']))*100\n",
    "percentage2 = (df['NumberOfDependents'].isna().sum()/len(df['NumberOfDependents']))*100\n",
    "percentage3 = (df_test['MonthlyIncome'].isna().sum()/len(df_test['MonthlyIncome']))*100\n",
    "percentage4 = (df_test['NumberOfDependents'].isna().sum()/len(df_test['NumberOfDependents']))*100\n",
    "print(\"The proportion of missing value in MonthlyIncome(Training):\",percentage1,\"%\")\n",
    "print(\"The proportion of missing value in NumberOfDependents(Training):\",percentage2,\"%\")\n",
    "print(\"\\n\")\n",
    "print(\"The proportion of missing value in MonthlyIncome(Testing):\",percentage3,\"%\")\n",
    "print(\"The proportion of missing value in NumberOfDependents(Testing):\",percentage4,\"%\")"
   ]
  },
  {
   "cell_type": "markdown",
   "id": "41e5f1bc",
   "metadata": {
    "papermill": {
     "duration": 0.029073,
     "end_time": "2023-10-31T08:55:11.621830",
     "exception": false,
     "start_time": "2023-10-31T08:55:11.592757",
     "status": "completed"
    },
    "tags": []
   },
   "source": [
    "The proportion of missing value in 'NumberOfDependents' in each data is not that high but the 'MonthlyIncome' have a lot of missing values. But we can ignore it if we are using model that can handle missing value like XGBoost, but in this one i will impute the missing value."
   ]
  },
  {
   "cell_type": "markdown",
   "id": "5ab70327",
   "metadata": {
    "papermill": {
     "duration": 0.031102,
     "end_time": "2023-10-31T08:55:11.681947",
     "exception": false,
     "start_time": "2023-10-31T08:55:11.650845",
     "status": "completed"
    },
    "tags": []
   },
   "source": [
    "For the missing value, we'll deal with it later in feature engineering, we need to visualize the data as it is."
   ]
  },
  {
   "cell_type": "code",
   "execution_count": 15,
   "id": "98002198",
   "metadata": {
    "execution": {
     "iopub.execute_input": "2023-10-31T08:55:11.740549Z",
     "iopub.status.busy": "2023-10-31T08:55:11.739800Z",
     "iopub.status.idle": "2023-10-31T08:55:13.134501Z",
     "shell.execute_reply": "2023-10-31T08:55:13.133290Z"
    },
    "papermill": {
     "duration": 1.427291,
     "end_time": "2023-10-31T08:55:13.137186",
     "exception": false,
     "start_time": "2023-10-31T08:55:11.709895",
     "status": "completed"
    },
    "tags": []
   },
   "outputs": [],
   "source": [
    "import seaborn as sns\n",
    "import matplotlib.pyplot as plt"
   ]
  },
  {
   "cell_type": "markdown",
   "id": "49bedb37",
   "metadata": {
    "papermill": {
     "duration": 0.027837,
     "end_time": "2023-10-31T08:55:13.193157",
     "exception": false,
     "start_time": "2023-10-31T08:55:13.165320",
     "status": "completed"
    },
    "tags": []
   },
   "source": [
    "**RevolvingUtilizationOfUnsecuredLines**"
   ]
  },
  {
   "cell_type": "code",
   "execution_count": 16,
   "id": "d8aca7e8",
   "metadata": {
    "execution": {
     "iopub.execute_input": "2023-10-31T08:55:13.252577Z",
     "iopub.status.busy": "2023-10-31T08:55:13.252214Z",
     "iopub.status.idle": "2023-10-31T08:55:13.277514Z",
     "shell.execute_reply": "2023-10-31T08:55:13.275787Z"
    },
    "papermill": {
     "duration": 0.05731,
     "end_time": "2023-10-31T08:55:13.279555",
     "exception": false,
     "start_time": "2023-10-31T08:55:13.222245",
     "status": "completed"
    },
    "tags": []
   },
   "outputs": [
    {
     "name": "stdout",
     "output_type": "stream",
     "text": [
      "Training\n",
      "count    150000.000000\n",
      "mean          6.048438\n",
      "std         249.755371\n",
      "min           0.000000\n",
      "25%           0.029867\n",
      "50%           0.154181\n",
      "75%           0.559046\n",
      "max       50708.000000\n",
      "Name: RevolvingUtilizationOfUnsecuredLines, dtype: float64\n",
      "\n",
      "\n",
      "Testing\n",
      "count    101503.000000\n",
      "mean          5.310000\n",
      "std         196.156039\n",
      "min           0.000000\n",
      "25%           0.030131\n",
      "50%           0.152586\n",
      "75%           0.564225\n",
      "max       21821.000000\n",
      "Name: RevolvingUtilizationOfUnsecuredLines, dtype: float64\n"
     ]
    }
   ],
   "source": [
    "print(\"Training\")\n",
    "print(df['RevolvingUtilizationOfUnsecuredLines'].describe())\n",
    "print(\"\\n\")\n",
    "print(\"Testing\")\n",
    "print(df_test['RevolvingUtilizationOfUnsecuredLines'].describe())"
   ]
  },
  {
   "cell_type": "markdown",
   "id": "db3b2fff",
   "metadata": {
    "papermill": {
     "duration": 0.028153,
     "end_time": "2023-10-31T08:55:13.335473",
     "exception": false,
     "start_time": "2023-10-31T08:55:13.307320",
     "status": "completed"
    },
    "tags": []
   },
   "source": [
    "There are some absurdly extreme value as we can see from the max compared to the mean value in bot testing and training."
   ]
  },
  {
   "cell_type": "code",
   "execution_count": 17,
   "id": "40f7119e",
   "metadata": {
    "execution": {
     "iopub.execute_input": "2023-10-31T08:55:13.395960Z",
     "iopub.status.busy": "2023-10-31T08:55:13.395567Z",
     "iopub.status.idle": "2023-10-31T08:55:14.009033Z",
     "shell.execute_reply": "2023-10-31T08:55:14.007963Z"
    },
    "papermill": {
     "duration": 0.647066,
     "end_time": "2023-10-31T08:55:14.011819",
     "exception": false,
     "start_time": "2023-10-31T08:55:13.364753",
     "status": "completed"
    },
    "tags": []
   },
   "outputs": [
    {
     "data": {
      "image/png": "[encoded data removed]",
      "text/plain": [
       "<Figure size 1200x400 with 2 Axes>"
      ]
     },
     "metadata": {},
     "output_type": "display_data"
    }
   ],
   "source": [
    "# RevolvingUtilizationOfUnsecuredLines\n",
    "fig, (ax1, ax2) = plt.subplots(1, 2, figsize=(12, 4))\n",
    "\n",
    "ax1.hist(df['RevolvingUtilizationOfUnsecuredLines'], bins=10, color='skyblue', edgecolor='black')\n",
    "ax1.set_title('RevolvingUtilizationOfUnsecuredLines Train')\n",
    "ax1.set_xlabel('RevolvingUtilizationOfUnsecuredLines')\n",
    "ax1.set_ylabel('Total Balance')\n",
    "\n",
    "ax2.hist(df_test['RevolvingUtilizationOfUnsecuredLines'], bins=10, color='skyblue', edgecolor='black')\n",
    "ax2.set_title('RevolvingUtilizationOfUnsecuredLines Test')\n",
    "ax2.set_xlabel('RevolvingUtilizationOfUnsecuredLines')\n",
    "ax2.set_ylabel('Total Balance')\n",
    "\n",
    "plt.tight_layout()\n",
    "\n",
    "plt.show()"
   ]
  },
  {
   "cell_type": "markdown",
   "id": "b57b09d1",
   "metadata": {
    "papermill": {
     "duration": 0.027874,
     "end_time": "2023-10-31T08:55:14.068909",
     "exception": false,
     "start_time": "2023-10-31T08:55:14.041035",
     "status": "completed"
    },
    "tags": []
   },
   "source": [
    "**Age**"
   ]
  },
  {
   "cell_type": "code",
   "execution_count": 18,
   "id": "2fc79bd1",
   "metadata": {
    "execution": {
     "iopub.execute_input": "2023-10-31T08:55:14.128010Z",
     "iopub.status.busy": "2023-10-31T08:55:14.127646Z",
     "iopub.status.idle": "2023-10-31T08:55:14.147163Z",
     "shell.execute_reply": "2023-10-31T08:55:14.145688Z"
    },
    "papermill": {
     "duration": 0.051383,
     "end_time": "2023-10-31T08:55:14.149256",
     "exception": false,
     "start_time": "2023-10-31T08:55:14.097873",
     "status": "completed"
    },
    "tags": []
   },
   "outputs": [
    {
     "name": "stdout",
     "output_type": "stream",
     "text": [
      "Training\n",
      "count    150000.000000\n",
      "mean         52.295207\n",
      "std          14.771866\n",
      "min           0.000000\n",
      "25%          41.000000\n",
      "50%          52.000000\n",
      "75%          63.000000\n",
      "max         109.000000\n",
      "Name: age, dtype: float64\n",
      "\n",
      "\n",
      "Testing\n",
      "count    101503.000000\n",
      "mean         52.405436\n",
      "std          14.779756\n",
      "min          21.000000\n",
      "25%          41.000000\n",
      "50%          52.000000\n",
      "75%          63.000000\n",
      "max         104.000000\n",
      "Name: age, dtype: float64\n"
     ]
    }
   ],
   "source": [
    "print(\"Training\")\n",
    "print(df['age'].describe())\n",
    "print(\"\\n\")\n",
    "print(\"Testing\")\n",
    "print(df_test['age'].describe())"
   ]
  },
  {
   "cell_type": "code",
   "execution_count": 19,
   "id": "ca30d54f",
   "metadata": {
    "execution": {
     "iopub.execute_input": "2023-10-31T08:55:14.209417Z",
     "iopub.status.busy": "2023-10-31T08:55:14.208416Z",
     "iopub.status.idle": "2023-10-31T08:55:14.688027Z",
     "shell.execute_reply": "2023-10-31T08:55:14.686812Z"
    },
    "papermill": {
     "duration": 0.512988,
     "end_time": "2023-10-31T08:55:14.690576",
     "exception": false,
     "start_time": "2023-10-31T08:55:14.177588",
     "status": "completed"
    },
    "tags": []
   },
   "outputs": [
    {
     "data": {
      "image/png": "[encoded data removed]",
      "text/plain": [
       "<Figure size 1200x400 with 2 Axes>"
      ]
     },
     "metadata": {},
     "output_type": "display_data"
    }
   ],
   "source": [
    "# Age\n",
    "fig, (ax1, ax2) = plt.subplots(1, 2, figsize=(12, 4))\n",
    "\n",
    "ax1.hist(df['age'], bins=10, color='skyblue', edgecolor='black')\n",
    "ax1.set_title('Age Distribution Train')\n",
    "ax1.set_xlabel('Age')\n",
    "ax1.set_ylabel('Count')\n",
    "\n",
    "ax2.hist(df_test['age'], bins=10, color='skyblue', edgecolor='black')\n",
    "ax2.set_title('Age Distribution Test')\n",
    "ax2.set_xlabel('Age')\n",
    "ax2.set_ylabel('Count')\n",
    "\n",
    "plt.tight_layout()\n",
    "\n",
    "plt.show()"
   ]
  },
  {
   "cell_type": "code",
   "execution_count": 20,
   "id": "d6439d7d",
   "metadata": {
    "execution": {
     "iopub.execute_input": "2023-10-31T08:55:14.758135Z",
     "iopub.status.busy": "2023-10-31T08:55:14.757755Z",
     "iopub.status.idle": "2023-10-31T08:55:14.765318Z",
     "shell.execute_reply": "2023-10-31T08:55:14.764529Z"
    },
    "papermill": {
     "duration": 0.044988,
     "end_time": "2023-10-31T08:55:14.767274",
     "exception": false,
     "start_time": "2023-10-31T08:55:14.722286",
     "status": "completed"
    },
    "tags": []
   },
   "outputs": [
    {
     "data": {
      "text/plain": [
       "1"
      ]
     },
     "execution_count": 20,
     "metadata": {},
     "output_type": "execute_result"
    }
   ],
   "source": [
    "len(df[df['age'] == 0])"
   ]
  },
  {
   "cell_type": "markdown",
   "id": "8f048abc",
   "metadata": {
    "papermill": {
     "duration": 0.029226,
     "end_time": "2023-10-31T08:55:14.828513",
     "exception": false,
     "start_time": "2023-10-31T08:55:14.799287",
     "status": "completed"
    },
    "tags": []
   },
   "source": [
    "In the training dataset, there is an anomaly in the 'age' feature, where the minimum recorded age is 0. This anomaly is unusual since it's implausible for someone at the age of 0 to be eligible for a loan. But the missing value only accounts for one record, we can ignore it."
   ]
  },
  {
   "cell_type": "markdown",
   "id": "5f7523ed",
   "metadata": {
    "papermill": {
     "duration": 0.02919,
     "end_time": "2023-10-31T08:55:14.887777",
     "exception": false,
     "start_time": "2023-10-31T08:55:14.858587",
     "status": "completed"
    },
    "tags": []
   },
   "source": [
    "The plot seems to skewed a bit to the left on both, which means more younger people."
   ]
  },
  {
   "cell_type": "markdown",
   "id": "daaef1d1",
   "metadata": {
    "papermill": {
     "duration": 0.029897,
     "end_time": "2023-10-31T08:55:14.946205",
     "exception": false,
     "start_time": "2023-10-31T08:55:14.916308",
     "status": "completed"
    },
    "tags": []
   },
   "source": [
    "**MonthlyIncome**"
   ]
  },
  {
   "cell_type": "code",
   "execution_count": 21,
   "id": "922aebf2",
   "metadata": {
    "execution": {
     "iopub.execute_input": "2023-10-31T08:55:15.008354Z",
     "iopub.status.busy": "2023-10-31T08:55:15.007558Z",
     "iopub.status.idle": "2023-10-31T08:55:15.035010Z",
     "shell.execute_reply": "2023-10-31T08:55:15.034093Z"
    },
    "papermill": {
     "duration": 0.06124,
     "end_time": "2023-10-31T08:55:15.037505",
     "exception": false,
     "start_time": "2023-10-31T08:55:14.976265",
     "status": "completed"
    },
    "tags": []
   },
   "outputs": [
    {
     "name": "stdout",
     "output_type": "stream",
     "text": [
      "Training\n",
      "count    1.202690e+05\n",
      "mean     6.670221e+03\n",
      "std      1.438467e+04\n",
      "min      0.000000e+00\n",
      "25%      3.400000e+03\n",
      "50%      5.400000e+03\n",
      "75%      8.249000e+03\n",
      "max      3.008750e+06\n",
      "Name: MonthlyIncome, dtype: float64\n",
      "\n",
      "\n",
      "Testing\n",
      "count    8.140000e+04\n",
      "mean     6.855036e+03\n",
      "std      3.650860e+04\n",
      "min      0.000000e+00\n",
      "25%      3.408000e+03\n",
      "50%      5.400000e+03\n",
      "75%      8.200000e+03\n",
      "max      7.727000e+06\n",
      "Name: MonthlyIncome, dtype: float64\n"
     ]
    }
   ],
   "source": [
    "print(\"Training\")\n",
    "print(df['MonthlyIncome'].describe())\n",
    "print(\"\\n\")\n",
    "print(\"Testing\")\n",
    "print(df_test['MonthlyIncome'].describe())"
   ]
  },
  {
   "cell_type": "code",
   "execution_count": 22,
   "id": "eff9aa10",
   "metadata": {
    "execution": {
     "iopub.execute_input": "2023-10-31T08:55:15.099655Z",
     "iopub.status.busy": "2023-10-31T08:55:15.099038Z",
     "iopub.status.idle": "2023-10-31T08:55:15.675890Z",
     "shell.execute_reply": "2023-10-31T08:55:15.675187Z"
    },
    "papermill": {
     "duration": 0.610141,
     "end_time": "2023-10-31T08:55:15.678167",
     "exception": false,
     "start_time": "2023-10-31T08:55:15.068026",
     "status": "completed"
    },
    "tags": []
   },
   "outputs": [
    {
     "data": {
      "image/png": "[encoded data removed]",
      "text/plain": [
       "<Figure size 1200x400 with 2 Axes>"
      ]
     },
     "metadata": {},
     "output_type": "display_data"
    }
   ],
   "source": [
    "# MonthlyIncome\n",
    "fig, (ax1, ax2) = plt.subplots(1, 2, figsize=(12, 4))\n",
    "\n",
    "ax1.hist(df['MonthlyIncome'], bins=10, color='skyblue', edgecolor='black')\n",
    "ax1.set_title('MonthlyIncome Distribution Train')\n",
    "ax1.set_xlabel('MonthlyIncome')\n",
    "ax1.set_ylabel('Count')\n",
    "\n",
    "ax2.hist(df_test['MonthlyIncome'], bins=10, color='skyblue', edgecolor='black')\n",
    "ax2.set_title('MonthlyIncome Distribution Test')\n",
    "ax2.set_xlabel('MonthlyIncome')\n",
    "ax2.set_ylabel('Count')\n",
    "\n",
    "plt.tight_layout()\n",
    "\n",
    "plt.show()"
   ]
  },
  {
   "cell_type": "markdown",
   "id": "a98a00d6",
   "metadata": {
    "papermill": {
     "duration": 0.029918,
     "end_time": "2023-10-31T08:55:15.740249",
     "exception": false,
     "start_time": "2023-10-31T08:55:15.710331",
     "status": "completed"
    },
    "tags": []
   },
   "source": [
    "As we can see, there is some absurd outlier too which is very far from the 75 percentile."
   ]
  },
  {
   "cell_type": "markdown",
   "id": "a687f4fa",
   "metadata": {
    "papermill": {
     "duration": 0.02906,
     "end_time": "2023-10-31T08:55:15.799327",
     "exception": false,
     "start_time": "2023-10-31T08:55:15.770267",
     "status": "completed"
    },
    "tags": []
   },
   "source": [
    "**NumberOfDependents**"
   ]
  },
  {
   "cell_type": "code",
   "execution_count": 23,
   "id": "6762c445",
   "metadata": {
    "execution": {
     "iopub.execute_input": "2023-10-31T08:55:15.861779Z",
     "iopub.status.busy": "2023-10-31T08:55:15.861092Z",
     "iopub.status.idle": "2023-10-31T08:55:15.882216Z",
     "shell.execute_reply": "2023-10-31T08:55:15.881005Z"
    },
    "papermill": {
     "duration": 0.054245,
     "end_time": "2023-10-31T08:55:15.884563",
     "exception": false,
     "start_time": "2023-10-31T08:55:15.830318",
     "status": "completed"
    },
    "tags": []
   },
   "outputs": [
    {
     "name": "stdout",
     "output_type": "stream",
     "text": [
      "Training\n",
      "count    146076.000000\n",
      "mean          0.757222\n",
      "std           1.115086\n",
      "min           0.000000\n",
      "25%           0.000000\n",
      "50%           0.000000\n",
      "75%           1.000000\n",
      "max          20.000000\n",
      "Name: NumberOfDependents, dtype: float64\n",
      "\n",
      "\n",
      "Testing\n",
      "count    98877.000000\n",
      "mean         0.769046\n",
      "std          1.136778\n",
      "min          0.000000\n",
      "25%          0.000000\n",
      "50%          0.000000\n",
      "75%          1.000000\n",
      "max         43.000000\n",
      "Name: NumberOfDependents, dtype: float64\n"
     ]
    }
   ],
   "source": [
    "print(\"Training\")\n",
    "print(df['NumberOfDependents'].describe())\n",
    "print(\"\\n\")\n",
    "print(\"Testing\")\n",
    "print(df_test['NumberOfDependents'].describe())"
   ]
  },
  {
   "cell_type": "code",
   "execution_count": 24,
   "id": "eb881683",
   "metadata": {
    "execution": {
     "iopub.execute_input": "2023-10-31T08:55:15.945504Z",
     "iopub.status.busy": "2023-10-31T08:55:15.945113Z",
     "iopub.status.idle": "2023-10-31T08:55:16.582429Z",
     "shell.execute_reply": "2023-10-31T08:55:16.581548Z"
    },
    "papermill": {
     "duration": 0.670135,
     "end_time": "2023-10-31T08:55:16.584700",
     "exception": false,
     "start_time": "2023-10-31T08:55:15.914565",
     "status": "completed"
    },
    "tags": []
   },
   "outputs": [
    {
     "data": {
      "image/png": "[encoded data removed]",
      "text/plain": [
       "<Figure size 1200x400 with 2 Axes>"
      ]
     },
     "metadata": {},
     "output_type": "display_data"
    }
   ],
   "source": [
    "# NumberOfDependents\n",
    "fig, (ax1, ax2) = plt.subplots(1, 2, figsize=(12, 4))\n",
    "\n",
    "sns.countplot(data=df, x='NumberOfDependents', color='skyblue', ax=ax1)\n",
    "ax1.set_title('NumberOfDependents Distribution Train')\n",
    "ax1.set_xlabel('NumberOfDependents')\n",
    "ax1.set_ylabel('Count')\n",
    "\n",
    "# Count plot for test dataset\n",
    "sns.countplot(data=df_test, x='NumberOfDependents', color='skyblue', ax=ax2)\n",
    "ax2.set_title('NumberOfDependents Distribution Test')\n",
    "ax2.set_xlabel('NumberOfDependents')\n",
    "ax2.set_ylabel('Count')\n",
    "\n",
    "plt.tight_layout()\n",
    "\n",
    "plt.show()"
   ]
  },
  {
   "cell_type": "markdown",
   "id": "50215be3",
   "metadata": {
    "papermill": {
     "duration": 0.030916,
     "end_time": "2023-10-31T08:55:16.647170",
     "exception": false,
     "start_time": "2023-10-31T08:55:16.616254",
     "status": "completed"
    },
    "tags": []
   },
   "source": [
    "As we can see most of the 'NumberOfDependents' value is 0 and reduce as it go to higher number."
   ]
  },
  {
   "cell_type": "code",
   "execution_count": 25,
   "id": "6e9d315e",
   "metadata": {
    "execution": {
     "iopub.execute_input": "2023-10-31T08:55:16.712587Z",
     "iopub.status.busy": "2023-10-31T08:55:16.711498Z",
     "iopub.status.idle": "2023-10-31T08:55:17.933497Z",
     "shell.execute_reply": "2023-10-31T08:55:17.932519Z"
    },
    "papermill": {
     "duration": 1.258047,
     "end_time": "2023-10-31T08:55:17.936855",
     "exception": false,
     "start_time": "2023-10-31T08:55:16.678808",
     "status": "completed"
    },
    "tags": []
   },
   "outputs": [
    {
     "data": {
      "text/plain": [
       "<Axes: title={'center': 'Heatmap of Training Data'}>"
      ]
     },
     "execution_count": 25,
     "metadata": {},
     "output_type": "execute_result"
    },
    {
     "data": {
      "image/png": "[encoded data removed]",
      "text/plain": [
       "<Figure size 2000x2000 with 2 Axes>"
      ]
     },
     "metadata": {},
     "output_type": "display_data"
    }
   ],
   "source": [
    "plt.figure(figsize=(20,20))\n",
    "plt.title(\"Heatmap of Training Data\")\n",
    "churn_corr = df.corr()\n",
    "churn_corr_top = churn_corr.index\n",
    "sns.heatmap(df[churn_corr_top].corr(), annot=True)"
   ]
  },
  {
   "cell_type": "code",
   "execution_count": 26,
   "id": "b80248d4",
   "metadata": {
    "execution": {
     "iopub.execute_input": "2023-10-31T08:55:18.010492Z",
     "iopub.status.busy": "2023-10-31T08:55:18.010070Z",
     "iopub.status.idle": "2023-10-31T08:55:19.292805Z",
     "shell.execute_reply": "2023-10-31T08:55:19.291896Z"
    },
    "papermill": {
     "duration": 1.324165,
     "end_time": "2023-10-31T08:55:19.297245",
     "exception": false,
     "start_time": "2023-10-31T08:55:17.973080",
     "status": "completed"
    },
    "tags": []
   },
   "outputs": [
    {
     "data": {
      "text/plain": [
       "<Axes: title={'center': 'Heatmap of Testing Data'}>"
      ]
     },
     "execution_count": 26,
     "metadata": {},
     "output_type": "execute_result"
    },
    {
     "data": {
      "image/png": "[encoded data removed]",
      "text/plain": [
       "<Figure size 2000x2000 with 2 Axes>"
      ]
     },
     "metadata": {},
     "output_type": "display_data"
    }
   ],
   "source": [
    "plt.figure(figsize=(20,20))\n",
    "plt.title(\"Heatmap of Testing Data\")\n",
    "churn_corr = df_test.corr()\n",
    "churn_corr_top = churn_corr.index\n",
    "sns.heatmap(df[churn_corr_top].corr(), annot=True)"
   ]
  },
  {
   "cell_type": "markdown",
   "id": "381d2222",
   "metadata": {
    "papermill": {
     "duration": 0.038084,
     "end_time": "2023-10-31T08:55:19.373608",
     "exception": false,
     "start_time": "2023-10-31T08:55:19.335524",
     "status": "completed"
    },
    "tags": []
   },
   "source": [
    "Both in Training and Testing dataset have a similar correlation with 'NumberOfTime30-59DaysPastDueNotWorse' and 'NumberOfTimes90DaysLate' with 0.98 correlation which is really high.\n",
    "\n",
    "Both Training and Testing dataset have similar behavioral in the correlation to each of their variable."
   ]
  },
  {
   "cell_type": "markdown",
   "id": "9f51a402",
   "metadata": {
    "papermill": {
     "duration": 0.038669,
     "end_time": "2023-10-31T08:55:19.450953",
     "exception": false,
     "start_time": "2023-10-31T08:55:19.412284",
     "status": "completed"
    },
    "tags": []
   },
   "source": [
    "## Class Imbalance"
   ]
  },
  {
   "cell_type": "code",
   "execution_count": 27,
   "id": "b63bd5ba",
   "metadata": {
    "execution": {
     "iopub.execute_input": "2023-10-31T08:55:19.530291Z",
     "iopub.status.busy": "2023-10-31T08:55:19.529543Z",
     "iopub.status.idle": "2023-10-31T08:55:19.706496Z",
     "shell.execute_reply": "2023-10-31T08:55:19.704996Z"
    },
    "papermill": {
     "duration": 0.221097,
     "end_time": "2023-10-31T08:55:19.710535",
     "exception": false,
     "start_time": "2023-10-31T08:55:19.489438",
     "status": "completed"
    },
    "tags": []
   },
   "outputs": [
    {
     "data": {
      "image/png": "[encoded data removed]",
      "text/plain": [
       "<Figure size 600x600 with 1 Axes>"
      ]
     },
     "metadata": {},
     "output_type": "display_data"
    }
   ],
   "source": [
    "labels = ['Y', 'N']\n",
    "sizes = [df['SeriousDlqin2yrs'].sum(), len(df) - df['SeriousDlqin2yrs'].sum()]\n",
    "\n",
    "colors = ['lightcoral', 'lightskyblue']\n",
    "\n",
    "plt.figure(figsize=(6, 6))\n",
    "plt.pie(sizes, labels=labels, colors=colors, autopct='%1.1f%%', startangle=140)\n",
    "\n",
    "Yes = df['SeriousDlqin2yrs'].sum()\n",
    "No = len(df) - df['SeriousDlqin2yrs'].sum()\n",
    "description = \"Yes:\",Yes,\"No:\",No\n",
    "plt.text(1.2, 0, description, ha='left', va='center', fontsize=12)\n",
    "\n",
    "plt.title('Target Distribution(Training)')\n",
    "plt.show()"
   ]
  },
  {
   "cell_type": "markdown",
   "id": "e26ff329",
   "metadata": {
    "papermill": {
     "duration": 0.039142,
     "end_time": "2023-10-31T08:55:19.807071",
     "exception": false,
     "start_time": "2023-10-31T08:55:19.767929",
     "status": "completed"
    },
    "tags": []
   },
   "source": [
    "An observation from the training data reveals an imbalance in our target variable, 'SeriousDlqin2yrs,' where the majority class is 'No.' This imbalance could lead to model bias in favor of the dominant class, potentially resulting in a high accuracy score. However, while accuracy is valuable, it's not the sole objective. Our goal is to build a model capable of effectively classifying both 'Yes' and 'No' instances. To achieve this, we prioritize evaluation metrics like AUC ROC, Recall, Precision, and F1-Score, which offer a more comprehensive assessment of model performance."
   ]
  },
  {
   "cell_type": "markdown",
   "id": "2451beb1",
   "metadata": {
    "papermill": {
     "duration": 0.039241,
     "end_time": "2023-10-31T08:55:19.884864",
     "exception": false,
     "start_time": "2023-10-31T08:55:19.845623",
     "status": "completed"
    },
    "tags": []
   },
   "source": [
    "### Missing Value"
   ]
  },
  {
   "cell_type": "markdown",
   "id": "4dffc1a5",
   "metadata": {
    "papermill": {
     "duration": 0.038687,
     "end_time": "2023-10-31T08:55:19.962542",
     "exception": false,
     "start_time": "2023-10-31T08:55:19.923855",
     "status": "completed"
    },
    "tags": []
   },
   "source": [
    "Imputing missing value, as we can see we have missing value on both train and test dataset, 'MonthlyIncome' can be impute with median because of the outlier which might make the mean not good fit.\n",
    "\n",
    "For imputing the 'NumberOfDependents', I can impute it with its mode because it's a discrete variable(no fraction).\n",
    "\n",
    "I can use more advance technique like regression, but for this one, I am using the mean for 'MonthlyIncome' and mode for 'NumerOfDependents'"
   ]
  },
  {
   "cell_type": "code",
   "execution_count": 28,
   "id": "189b9274",
   "metadata": {
    "execution": {
     "iopub.execute_input": "2023-10-31T08:55:20.041839Z",
     "iopub.status.busy": "2023-10-31T08:55:20.041044Z",
     "iopub.status.idle": "2023-10-31T08:55:20.051774Z",
     "shell.execute_reply": "2023-10-31T08:55:20.051086Z"
    },
    "papermill": {
     "duration": 0.0528,
     "end_time": "2023-10-31T08:55:20.053657",
     "exception": false,
     "start_time": "2023-10-31T08:55:20.000857",
     "status": "completed"
    },
    "tags": []
   },
   "outputs": [],
   "source": [
    "#Imputing Train Data\n",
    "mean_value_train = df['MonthlyIncome'].mean()\n",
    "df['MonthlyIncome'].fillna(mean_value_train, inplace=True)\n",
    "mode_value_train = df['NumberOfDependents'].mode().iloc[0]\n",
    "df['NumberOfDependents'].fillna(mode_value_train, inplace=True)"
   ]
  },
  {
   "cell_type": "code",
   "execution_count": 29,
   "id": "5c5471a5",
   "metadata": {
    "execution": {
     "iopub.execute_input": "2023-10-31T08:55:20.131944Z",
     "iopub.status.busy": "2023-10-31T08:55:20.131599Z",
     "iopub.status.idle": "2023-10-31T08:55:20.142020Z",
     "shell.execute_reply": "2023-10-31T08:55:20.141270Z"
    },
    "papermill": {
     "duration": 0.051199,
     "end_time": "2023-10-31T08:55:20.143999",
     "exception": false,
     "start_time": "2023-10-31T08:55:20.092800",
     "status": "completed"
    },
    "tags": []
   },
   "outputs": [],
   "source": [
    "#Imputing Test Data\n",
    "mean_value_test = df_test['MonthlyIncome'].mean()\n",
    "df_test['MonthlyIncome'].fillna(mean_value_test, inplace=True)\n",
    "mode_value_test = df_test['NumberOfDependents'].mode().iloc[0]\n",
    "df_test['NumberOfDependents'].fillna(mode_value_test, inplace=True)"
   ]
  },
  {
   "cell_type": "code",
   "execution_count": 30,
   "id": "e4e624aa",
   "metadata": {
    "execution": {
     "iopub.execute_input": "2023-10-31T08:55:20.223054Z",
     "iopub.status.busy": "2023-10-31T08:55:20.222068Z",
     "iopub.status.idle": "2023-10-31T08:55:20.233876Z",
     "shell.execute_reply": "2023-10-31T08:55:20.232657Z"
    },
    "papermill": {
     "duration": 0.053671,
     "end_time": "2023-10-31T08:55:20.236033",
     "exception": false,
     "start_time": "2023-10-31T08:55:20.182362",
     "status": "completed"
    },
    "tags": []
   },
   "outputs": [
    {
     "name": "stdout",
     "output_type": "stream",
     "text": [
      "SeriousDlqin2yrs                        0\n",
      "RevolvingUtilizationOfUnsecuredLines    0\n",
      "age                                     0\n",
      "NumberOfTime30-59DaysPastDueNotWorse    0\n",
      "DebtRatio                               0\n",
      "MonthlyIncome                           0\n",
      "NumberOfOpenCreditLinesAndLoans         0\n",
      "NumberOfTimes90DaysLate                 0\n",
      "NumberRealEstateLoansOrLines            0\n",
      "NumberOfTime60-89DaysPastDueNotWorse    0\n",
      "NumberOfDependents                      0\n",
      "dtype: int64\n",
      "SeriousDlqin2yrs                        101503\n",
      "RevolvingUtilizationOfUnsecuredLines         0\n",
      "age                                          0\n",
      "NumberOfTime30-59DaysPastDueNotWorse         0\n",
      "DebtRatio                                    0\n",
      "MonthlyIncome                                0\n",
      "NumberOfOpenCreditLinesAndLoans              0\n",
      "NumberOfTimes90DaysLate                      0\n",
      "NumberRealEstateLoansOrLines                 0\n",
      "NumberOfTime60-89DaysPastDueNotWorse         0\n",
      "NumberOfDependents                           0\n",
      "dtype: int64\n"
     ]
    }
   ],
   "source": [
    "print(df.isna().sum())\n",
    "print(df_test.isna().sum())"
   ]
  },
  {
   "cell_type": "markdown",
   "id": "02a7d352",
   "metadata": {
    "papermill": {
     "duration": 0.037647,
     "end_time": "2023-10-31T08:55:20.312638",
     "exception": false,
     "start_time": "2023-10-31T08:55:20.274991",
     "status": "completed"
    },
    "tags": []
   },
   "source": [
    "### Outlier"
   ]
  },
  {
   "cell_type": "markdown",
   "id": "6941c00e",
   "metadata": {
    "papermill": {
     "duration": 0.03891,
     "end_time": "2023-10-31T08:55:20.390230",
     "exception": false,
     "start_time": "2023-10-31T08:55:20.351320",
     "status": "completed"
    },
    "tags": []
   },
   "source": [
    "I want to look at DebtRatio"
   ]
  },
  {
   "cell_type": "code",
   "execution_count": 31,
   "id": "49c5b074",
   "metadata": {
    "execution": {
     "iopub.execute_input": "2023-10-31T08:55:20.469948Z",
     "iopub.status.busy": "2023-10-31T08:55:20.469324Z",
     "iopub.status.idle": "2023-10-31T08:55:20.490100Z",
     "shell.execute_reply": "2023-10-31T08:55:20.489020Z"
    },
    "papermill": {
     "duration": 0.063159,
     "end_time": "2023-10-31T08:55:20.492008",
     "exception": false,
     "start_time": "2023-10-31T08:55:20.428849",
     "status": "completed"
    },
    "tags": []
   },
   "outputs": [
    {
     "name": "stdout",
     "output_type": "stream",
     "text": [
      "Training\n",
      "count    150000.000000\n",
      "mean        353.005076\n",
      "std        2037.818523\n",
      "min           0.000000\n",
      "25%           0.175074\n",
      "50%           0.366508\n",
      "75%           0.868254\n",
      "max      329664.000000\n",
      "Name: DebtRatio, dtype: float64\n",
      "\n",
      "\n",
      "Testing\n",
      "count    101503.000000\n",
      "mean        344.475020\n",
      "std        1632.595231\n",
      "min           0.000000\n",
      "25%           0.173423\n",
      "50%           0.364260\n",
      "75%           0.851619\n",
      "max      268326.000000\n",
      "Name: DebtRatio, dtype: float64\n"
     ]
    }
   ],
   "source": [
    "print(\"Training\")\n",
    "print(df['DebtRatio'].describe())\n",
    "print(\"\\n\")\n",
    "print(\"Testing\")\n",
    "print(df_test['DebtRatio'].describe())"
   ]
  },
  {
   "cell_type": "code",
   "execution_count": 32,
   "id": "93b024b0",
   "metadata": {
    "execution": {
     "iopub.execute_input": "2023-10-31T08:55:20.571657Z",
     "iopub.status.busy": "2023-10-31T08:55:20.570998Z",
     "iopub.status.idle": "2023-10-31T08:55:20.640431Z",
     "shell.execute_reply": "2023-10-31T08:55:20.639650Z"
    },
    "papermill": {
     "duration": 0.111739,
     "end_time": "2023-10-31T08:55:20.642495",
     "exception": false,
     "start_time": "2023-10-31T08:55:20.530756",
     "status": "completed"
    },
    "tags": []
   },
   "outputs": [
    {
     "data": {
      "text/plain": [
       "659"
      ]
     },
     "execution_count": 32,
     "metadata": {},
     "output_type": "execute_result"
    }
   ],
   "source": [
    "#Train with 3 standard deviation\n",
    "mean = np.mean(df['DebtRatio'])\n",
    "std = np.std(df['DebtRatio'])\n",
    "lower_bound = mean - 3 * std\n",
    "upper_bound = mean + 3 * std\n",
    "outliers = [x for x in df['DebtRatio'] if x < lower_bound or x > upper_bound]\n",
    "num_outliers = len(outliers)\n",
    "num_outliers"
   ]
  },
  {
   "cell_type": "code",
   "execution_count": 33,
   "id": "6afb4056",
   "metadata": {
    "execution": {
     "iopub.execute_input": "2023-10-31T08:55:20.727784Z",
     "iopub.status.busy": "2023-10-31T08:55:20.726958Z",
     "iopub.status.idle": "2023-10-31T08:55:20.794359Z",
     "shell.execute_reply": "2023-10-31T08:55:20.793391Z"
    },
    "papermill": {
     "duration": 0.114733,
     "end_time": "2023-10-31T08:55:20.796905",
     "exception": false,
     "start_time": "2023-10-31T08:55:20.682172",
     "status": "completed"
    },
    "tags": []
   },
   "outputs": [
    {
     "data": {
      "text/plain": [
       "873"
      ]
     },
     "execution_count": 33,
     "metadata": {},
     "output_type": "execute_result"
    }
   ],
   "source": [
    "#Test with 3 standard deviation\n",
    "mean = np.mean(df_test['DebtRatio'])\n",
    "std = np.std(df_test['DebtRatio'])\n",
    "lower_bound = mean - 3 * std\n",
    "upper_bound = mean + 3 * std\n",
    "outliers = [x for x in df_test['DebtRatio'] if x < lower_bound or x > upper_bound]\n",
    "num_outliers = len(outliers)\n",
    "num_outliers"
   ]
  },
  {
   "cell_type": "markdown",
   "id": "f2fc2480",
   "metadata": {
    "papermill": {
     "duration": 0.039932,
     "end_time": "2023-10-31T08:55:20.878650",
     "exception": false,
     "start_time": "2023-10-31T08:55:20.838718",
     "status": "completed"
    },
    "tags": []
   },
   "source": [
    "By using Z-Score method We can see there are some outliers not that much, to handle this problem I will scale all the variable before model to minimize the impact of the outliers."
   ]
  },
  {
   "cell_type": "markdown",
   "id": "00c65034",
   "metadata": {
    "papermill": {
     "duration": 0.04023,
     "end_time": "2023-10-31T08:55:20.958742",
     "exception": false,
     "start_time": "2023-10-31T08:55:20.918512",
     "status": "completed"
    },
    "tags": []
   },
   "source": [
    "### Scaling"
   ]
  },
  {
   "cell_type": "code",
   "execution_count": 34,
   "id": "1930dcb4",
   "metadata": {
    "execution": {
     "iopub.execute_input": "2023-10-31T08:55:21.040409Z",
     "iopub.status.busy": "2023-10-31T08:55:21.039732Z",
     "iopub.status.idle": "2023-10-31T08:55:21.176219Z",
     "shell.execute_reply": "2023-10-31T08:55:21.175288Z"
    },
    "papermill": {
     "duration": 0.179761,
     "end_time": "2023-10-31T08:55:21.178812",
     "exception": false,
     "start_time": "2023-10-31T08:55:20.999051",
     "status": "completed"
    },
    "tags": []
   },
   "outputs": [],
   "source": [
    " from sklearn.preprocessing import MinMaxScaler"
   ]
  },
  {
   "cell_type": "code",
   "execution_count": 35,
   "id": "8efb6568",
   "metadata": {
    "execution": {
     "iopub.execute_input": "2023-10-31T08:55:21.260164Z",
     "iopub.status.busy": "2023-10-31T08:55:21.259706Z",
     "iopub.status.idle": "2023-10-31T08:55:21.264682Z",
     "shell.execute_reply": "2023-10-31T08:55:21.263637Z"
    },
    "papermill": {
     "duration": 0.049639,
     "end_time": "2023-10-31T08:55:21.266886",
     "exception": false,
     "start_time": "2023-10-31T08:55:21.217247",
     "status": "completed"
    },
    "tags": []
   },
   "outputs": [],
   "source": [
    "columns_to_scale = ['RevolvingUtilizationOfUnsecuredLines', 'age',\n",
    "       'NumberOfTime30-59DaysPastDueNotWorse', 'DebtRatio', 'MonthlyIncome',\n",
    "       'NumberOfOpenCreditLinesAndLoans', 'NumberOfTimes90DaysLate',\n",
    "       'NumberRealEstateLoansOrLines', 'NumberOfTime60-89DaysPastDueNotWorse',\n",
    "       'NumberOfDependents']"
   ]
  },
  {
   "cell_type": "code",
   "execution_count": 36,
   "id": "48b41858",
   "metadata": {
    "execution": {
     "iopub.execute_input": "2023-10-31T08:55:21.353093Z",
     "iopub.status.busy": "2023-10-31T08:55:21.352443Z",
     "iopub.status.idle": "2023-10-31T08:55:21.435543Z",
     "shell.execute_reply": "2023-10-31T08:55:21.434513Z"
    },
    "papermill": {
     "duration": 0.129092,
     "end_time": "2023-10-31T08:55:21.437750",
     "exception": false,
     "start_time": "2023-10-31T08:55:21.308658",
     "status": "completed"
    },
    "tags": []
   },
   "outputs": [
    {
     "data": {
      "text/html": [
       "<div>\n",
       "<style scoped>\n",
       "    .dataframe tbody tr th:only-of-type {\n",
       "        vertical-align: middle;\n",
       "    }\n",
       "\n",
       "    .dataframe tbody tr th {\n",
       "        vertical-align: top;\n",
       "    }\n",
       "\n",
       "    .dataframe thead th {\n",
       "        text-align: right;\n",
       "    }\n",
       "</style>\n",
       "<table border=\"1\" class=\"dataframe\">\n",
       "  <thead>\n",
       "    <tr style=\"text-align: right;\">\n",
       "      <th></th>\n",
       "      <th>SeriousDlqin2yrs</th>\n",
       "      <th>RevolvingUtilizationOfUnsecuredLines</th>\n",
       "      <th>age</th>\n",
       "      <th>NumberOfTime30-59DaysPastDueNotWorse</th>\n",
       "      <th>DebtRatio</th>\n",
       "      <th>MonthlyIncome</th>\n",
       "      <th>NumberOfOpenCreditLinesAndLoans</th>\n",
       "      <th>NumberOfTimes90DaysLate</th>\n",
       "      <th>NumberRealEstateLoansOrLines</th>\n",
       "      <th>NumberOfTime60-89DaysPastDueNotWorse</th>\n",
       "      <th>NumberOfDependents</th>\n",
       "    </tr>\n",
       "  </thead>\n",
       "  <tbody>\n",
       "    <tr>\n",
       "      <th>count</th>\n",
       "      <td>150000.000000</td>\n",
       "      <td>150000.000000</td>\n",
       "      <td>150000.000000</td>\n",
       "      <td>150000.000000</td>\n",
       "      <td>150000.000000</td>\n",
       "      <td>1.500000e+05</td>\n",
       "      <td>150000.000000</td>\n",
       "      <td>150000.000000</td>\n",
       "      <td>150000.000000</td>\n",
       "      <td>150000.000000</td>\n",
       "      <td>150000.000000</td>\n",
       "    </tr>\n",
       "    <tr>\n",
       "      <th>mean</th>\n",
       "      <td>0.066840</td>\n",
       "      <td>6.048438</td>\n",
       "      <td>52.295207</td>\n",
       "      <td>0.421033</td>\n",
       "      <td>353.005076</td>\n",
       "      <td>6.670221e+03</td>\n",
       "      <td>8.452760</td>\n",
       "      <td>0.265973</td>\n",
       "      <td>1.018240</td>\n",
       "      <td>0.240387</td>\n",
       "      <td>0.737413</td>\n",
       "    </tr>\n",
       "    <tr>\n",
       "      <th>std</th>\n",
       "      <td>0.249746</td>\n",
       "      <td>249.755371</td>\n",
       "      <td>14.771866</td>\n",
       "      <td>4.192781</td>\n",
       "      <td>2037.818523</td>\n",
       "      <td>1.288045e+04</td>\n",
       "      <td>5.145951</td>\n",
       "      <td>4.169304</td>\n",
       "      <td>1.129771</td>\n",
       "      <td>4.155179</td>\n",
       "      <td>1.107021</td>\n",
       "    </tr>\n",
       "    <tr>\n",
       "      <th>min</th>\n",
       "      <td>0.000000</td>\n",
       "      <td>0.000000</td>\n",
       "      <td>0.000000</td>\n",
       "      <td>0.000000</td>\n",
       "      <td>0.000000</td>\n",
       "      <td>0.000000e+00</td>\n",
       "      <td>0.000000</td>\n",
       "      <td>0.000000</td>\n",
       "      <td>0.000000</td>\n",
       "      <td>0.000000</td>\n",
       "      <td>0.000000</td>\n",
       "    </tr>\n",
       "    <tr>\n",
       "      <th>25%</th>\n",
       "      <td>0.000000</td>\n",
       "      <td>0.029867</td>\n",
       "      <td>41.000000</td>\n",
       "      <td>0.000000</td>\n",
       "      <td>0.175074</td>\n",
       "      <td>3.903000e+03</td>\n",
       "      <td>5.000000</td>\n",
       "      <td>0.000000</td>\n",
       "      <td>0.000000</td>\n",
       "      <td>0.000000</td>\n",
       "      <td>0.000000</td>\n",
       "    </tr>\n",
       "    <tr>\n",
       "      <th>50%</th>\n",
       "      <td>0.000000</td>\n",
       "      <td>0.154181</td>\n",
       "      <td>52.000000</td>\n",
       "      <td>0.000000</td>\n",
       "      <td>0.366508</td>\n",
       "      <td>6.600000e+03</td>\n",
       "      <td>8.000000</td>\n",
       "      <td>0.000000</td>\n",
       "      <td>1.000000</td>\n",
       "      <td>0.000000</td>\n",
       "      <td>0.000000</td>\n",
       "    </tr>\n",
       "    <tr>\n",
       "      <th>75%</th>\n",
       "      <td>0.000000</td>\n",
       "      <td>0.559046</td>\n",
       "      <td>63.000000</td>\n",
       "      <td>0.000000</td>\n",
       "      <td>0.868254</td>\n",
       "      <td>7.400000e+03</td>\n",
       "      <td>11.000000</td>\n",
       "      <td>0.000000</td>\n",
       "      <td>2.000000</td>\n",
       "      <td>0.000000</td>\n",
       "      <td>1.000000</td>\n",
       "    </tr>\n",
       "    <tr>\n",
       "      <th>max</th>\n",
       "      <td>1.000000</td>\n",
       "      <td>50708.000000</td>\n",
       "      <td>109.000000</td>\n",
       "      <td>98.000000</td>\n",
       "      <td>329664.000000</td>\n",
       "      <td>3.008750e+06</td>\n",
       "      <td>58.000000</td>\n",
       "      <td>98.000000</td>\n",
       "      <td>54.000000</td>\n",
       "      <td>98.000000</td>\n",
       "      <td>20.000000</td>\n",
       "    </tr>\n",
       "  </tbody>\n",
       "</table>\n",
       "</div>"
      ],
      "text/plain": [
       "       SeriousDlqin2yrs  RevolvingUtilizationOfUnsecuredLines            age  \\\n",
       "count     150000.000000                         150000.000000  150000.000000   \n",
       "mean           0.066840                              6.048438      52.295207   \n",
       "std            0.249746                            249.755371      14.771866   \n",
       "min            0.000000                              0.000000       0.000000   \n",
       "25%            0.000000                              0.029867      41.000000   \n",
       "50%            0.000000                              0.154181      52.000000   \n",
       "75%            0.000000                              0.559046      63.000000   \n",
       "max            1.000000                          50708.000000     109.000000   \n",
       "\n",
       "       NumberOfTime30-59DaysPastDueNotWorse      DebtRatio  MonthlyIncome  \\\n",
       "count                         150000.000000  150000.000000   1.500000e+05   \n",
       "mean                               0.421033     353.005076   6.670221e+03   \n",
       "std                                4.192781    2037.818523   1.288045e+04   \n",
       "min                                0.000000       0.000000   0.000000e+00   \n",
       "25%                                0.000000       0.175074   3.903000e+03   \n",
       "50%                                0.000000       0.366508   6.600000e+03   \n",
       "75%                                0.000000       0.868254   7.400000e+03   \n",
       "max                               98.000000  329664.000000   3.008750e+06   \n",
       "\n",
       "       NumberOfOpenCreditLinesAndLoans  NumberOfTimes90DaysLate  \\\n",
       "count                    150000.000000            150000.000000   \n",
       "mean                          8.452760                 0.265973   \n",
       "std                           5.145951                 4.169304   \n",
       "min                           0.000000                 0.000000   \n",
       "25%                           5.000000                 0.000000   \n",
       "50%                           8.000000                 0.000000   \n",
       "75%                          11.000000                 0.000000   \n",
       "max                          58.000000                98.000000   \n",
       "\n",
       "       NumberRealEstateLoansOrLines  NumberOfTime60-89DaysPastDueNotWorse  \\\n",
       "count                 150000.000000                         150000.000000   \n",
       "mean                       1.018240                              0.240387   \n",
       "std                        1.129771                              4.155179   \n",
       "min                        0.000000                              0.000000   \n",
       "25%                        0.000000                              0.000000   \n",
       "50%                        1.000000                              0.000000   \n",
       "75%                        2.000000                              0.000000   \n",
       "max                       54.000000                             98.000000   \n",
       "\n",
       "       NumberOfDependents  \n",
       "count       150000.000000  \n",
       "mean             0.737413  \n",
       "std              1.107021  \n",
       "min              0.000000  \n",
       "25%              0.000000  \n",
       "50%              0.000000  \n",
       "75%              1.000000  \n",
       "max             20.000000  "
      ]
     },
     "execution_count": 36,
     "metadata": {},
     "output_type": "execute_result"
    }
   ],
   "source": [
    "#Before Scaling\n",
    "df.describe()"
   ]
  },
  {
   "cell_type": "code",
   "execution_count": 37,
   "id": "536e7cf2",
   "metadata": {
    "execution": {
     "iopub.execute_input": "2023-10-31T08:55:21.518215Z",
     "iopub.status.busy": "2023-10-31T08:55:21.517820Z",
     "iopub.status.idle": "2023-10-31T08:55:21.586131Z",
     "shell.execute_reply": "2023-10-31T08:55:21.585008Z"
    },
    "papermill": {
     "duration": 0.11178,
     "end_time": "2023-10-31T08:55:21.588311",
     "exception": false,
     "start_time": "2023-10-31T08:55:21.476531",
     "status": "completed"
    },
    "tags": []
   },
   "outputs": [
    {
     "data": {
      "text/html": [
       "<div>\n",
       "<style scoped>\n",
       "    .dataframe tbody tr th:only-of-type {\n",
       "        vertical-align: middle;\n",
       "    }\n",
       "\n",
       "    .dataframe tbody tr th {\n",
       "        vertical-align: top;\n",
       "    }\n",
       "\n",
       "    .dataframe thead th {\n",
       "        text-align: right;\n",
       "    }\n",
       "</style>\n",
       "<table border=\"1\" class=\"dataframe\">\n",
       "  <thead>\n",
       "    <tr style=\"text-align: right;\">\n",
       "      <th></th>\n",
       "      <th>SeriousDlqin2yrs</th>\n",
       "      <th>RevolvingUtilizationOfUnsecuredLines</th>\n",
       "      <th>age</th>\n",
       "      <th>NumberOfTime30-59DaysPastDueNotWorse</th>\n",
       "      <th>DebtRatio</th>\n",
       "      <th>MonthlyIncome</th>\n",
       "      <th>NumberOfOpenCreditLinesAndLoans</th>\n",
       "      <th>NumberOfTimes90DaysLate</th>\n",
       "      <th>NumberRealEstateLoansOrLines</th>\n",
       "      <th>NumberOfTime60-89DaysPastDueNotWorse</th>\n",
       "      <th>NumberOfDependents</th>\n",
       "    </tr>\n",
       "  </thead>\n",
       "  <tbody>\n",
       "    <tr>\n",
       "      <th>count</th>\n",
       "      <td>0.0</td>\n",
       "      <td>101503.000000</td>\n",
       "      <td>101503.000000</td>\n",
       "      <td>101503.000000</td>\n",
       "      <td>101503.000000</td>\n",
       "      <td>1.015030e+05</td>\n",
       "      <td>101503.000000</td>\n",
       "      <td>101503.000000</td>\n",
       "      <td>101503.000000</td>\n",
       "      <td>101503.000000</td>\n",
       "      <td>101503.00000</td>\n",
       "    </tr>\n",
       "    <tr>\n",
       "      <th>mean</th>\n",
       "      <td>NaN</td>\n",
       "      <td>5.310000</td>\n",
       "      <td>52.405436</td>\n",
       "      <td>0.453770</td>\n",
       "      <td>344.475020</td>\n",
       "      <td>6.855036e+03</td>\n",
       "      <td>8.453514</td>\n",
       "      <td>0.296691</td>\n",
       "      <td>1.013074</td>\n",
       "      <td>0.270317</td>\n",
       "      <td>0.74915</td>\n",
       "    </tr>\n",
       "    <tr>\n",
       "      <th>std</th>\n",
       "      <td>NaN</td>\n",
       "      <td>196.156039</td>\n",
       "      <td>14.779756</td>\n",
       "      <td>4.538487</td>\n",
       "      <td>1632.595231</td>\n",
       "      <td>3.269395e+04</td>\n",
       "      <td>5.144100</td>\n",
       "      <td>4.515859</td>\n",
       "      <td>1.110253</td>\n",
       "      <td>4.503578</td>\n",
       "      <td>1.12860</td>\n",
       "    </tr>\n",
       "    <tr>\n",
       "      <th>min</th>\n",
       "      <td>NaN</td>\n",
       "      <td>0.000000</td>\n",
       "      <td>21.000000</td>\n",
       "      <td>0.000000</td>\n",
       "      <td>0.000000</td>\n",
       "      <td>0.000000e+00</td>\n",
       "      <td>0.000000</td>\n",
       "      <td>0.000000</td>\n",
       "      <td>0.000000</td>\n",
       "      <td>0.000000</td>\n",
       "      <td>0.00000</td>\n",
       "    </tr>\n",
       "    <tr>\n",
       "      <th>25%</th>\n",
       "      <td>NaN</td>\n",
       "      <td>0.030131</td>\n",
       "      <td>41.000000</td>\n",
       "      <td>0.000000</td>\n",
       "      <td>0.173423</td>\n",
       "      <td>3.900000e+03</td>\n",
       "      <td>5.000000</td>\n",
       "      <td>0.000000</td>\n",
       "      <td>0.000000</td>\n",
       "      <td>0.000000</td>\n",
       "      <td>0.00000</td>\n",
       "    </tr>\n",
       "    <tr>\n",
       "      <th>50%</th>\n",
       "      <td>NaN</td>\n",
       "      <td>0.152586</td>\n",
       "      <td>52.000000</td>\n",
       "      <td>0.000000</td>\n",
       "      <td>0.364260</td>\n",
       "      <td>6.583000e+03</td>\n",
       "      <td>8.000000</td>\n",
       "      <td>0.000000</td>\n",
       "      <td>1.000000</td>\n",
       "      <td>0.000000</td>\n",
       "      <td>0.00000</td>\n",
       "    </tr>\n",
       "    <tr>\n",
       "      <th>75%</th>\n",
       "      <td>NaN</td>\n",
       "      <td>0.564225</td>\n",
       "      <td>63.000000</td>\n",
       "      <td>0.000000</td>\n",
       "      <td>0.851619</td>\n",
       "      <td>7.374000e+03</td>\n",
       "      <td>11.000000</td>\n",
       "      <td>0.000000</td>\n",
       "      <td>2.000000</td>\n",
       "      <td>0.000000</td>\n",
       "      <td>1.00000</td>\n",
       "    </tr>\n",
       "    <tr>\n",
       "      <th>max</th>\n",
       "      <td>NaN</td>\n",
       "      <td>21821.000000</td>\n",
       "      <td>104.000000</td>\n",
       "      <td>98.000000</td>\n",
       "      <td>268326.000000</td>\n",
       "      <td>7.727000e+06</td>\n",
       "      <td>85.000000</td>\n",
       "      <td>98.000000</td>\n",
       "      <td>37.000000</td>\n",
       "      <td>98.000000</td>\n",
       "      <td>43.00000</td>\n",
       "    </tr>\n",
       "  </tbody>\n",
       "</table>\n",
       "</div>"
      ],
      "text/plain": [
       "       SeriousDlqin2yrs  RevolvingUtilizationOfUnsecuredLines            age  \\\n",
       "count               0.0                         101503.000000  101503.000000   \n",
       "mean                NaN                              5.310000      52.405436   \n",
       "std                 NaN                            196.156039      14.779756   \n",
       "min                 NaN                              0.000000      21.000000   \n",
       "25%                 NaN                              0.030131      41.000000   \n",
       "50%                 NaN                              0.152586      52.000000   \n",
       "75%                 NaN                              0.564225      63.000000   \n",
       "max                 NaN                          21821.000000     104.000000   \n",
       "\n",
       "       NumberOfTime30-59DaysPastDueNotWorse      DebtRatio  MonthlyIncome  \\\n",
       "count                         101503.000000  101503.000000   1.015030e+05   \n",
       "mean                               0.453770     344.475020   6.855036e+03   \n",
       "std                                4.538487    1632.595231   3.269395e+04   \n",
       "min                                0.000000       0.000000   0.000000e+00   \n",
       "25%                                0.000000       0.173423   3.900000e+03   \n",
       "50%                                0.000000       0.364260   6.583000e+03   \n",
       "75%                                0.000000       0.851619   7.374000e+03   \n",
       "max                               98.000000  268326.000000   7.727000e+06   \n",
       "\n",
       "       NumberOfOpenCreditLinesAndLoans  NumberOfTimes90DaysLate  \\\n",
       "count                    101503.000000            101503.000000   \n",
       "mean                          8.453514                 0.296691   \n",
       "std                           5.144100                 4.515859   \n",
       "min                           0.000000                 0.000000   \n",
       "25%                           5.000000                 0.000000   \n",
       "50%                           8.000000                 0.000000   \n",
       "75%                          11.000000                 0.000000   \n",
       "max                          85.000000                98.000000   \n",
       "\n",
       "       NumberRealEstateLoansOrLines  NumberOfTime60-89DaysPastDueNotWorse  \\\n",
       "count                 101503.000000                         101503.000000   \n",
       "mean                       1.013074                              0.270317   \n",
       "std                        1.110253                              4.503578   \n",
       "min                        0.000000                              0.000000   \n",
       "25%                        0.000000                              0.000000   \n",
       "50%                        1.000000                              0.000000   \n",
       "75%                        2.000000                              0.000000   \n",
       "max                       37.000000                             98.000000   \n",
       "\n",
       "       NumberOfDependents  \n",
       "count        101503.00000  \n",
       "mean              0.74915  \n",
       "std               1.12860  \n",
       "min               0.00000  \n",
       "25%               0.00000  \n",
       "50%               0.00000  \n",
       "75%               1.00000  \n",
       "max              43.00000  "
      ]
     },
     "execution_count": 37,
     "metadata": {},
     "output_type": "execute_result"
    }
   ],
   "source": [
    "df_test.describe()"
   ]
  },
  {
   "cell_type": "code",
   "execution_count": 38,
   "id": "4d82551c",
   "metadata": {
    "execution": {
     "iopub.execute_input": "2023-10-31T08:55:21.670155Z",
     "iopub.status.busy": "2023-10-31T08:55:21.669433Z",
     "iopub.status.idle": "2023-10-31T08:55:21.717662Z",
     "shell.execute_reply": "2023-10-31T08:55:21.716856Z"
    },
    "papermill": {
     "duration": 0.093459,
     "end_time": "2023-10-31T08:55:21.720222",
     "exception": false,
     "start_time": "2023-10-31T08:55:21.626763",
     "status": "completed"
    },
    "tags": []
   },
   "outputs": [],
   "source": [
    "scaler = MinMaxScaler()\n",
    "scaled_data = scaler.fit_transform(df[columns_to_scale])\n",
    "scaled_df = pd.DataFrame(scaled_data, columns=columns_to_scale)\n",
    "\n",
    "scaled_data_test = scaler.fit_transform(df_test[columns_to_scale])\n",
    "scaled_df_test = pd.DataFrame(scaled_data_test, columns=columns_to_scale)"
   ]
  },
  {
   "cell_type": "code",
   "execution_count": 39,
   "id": "83a7ebd6",
   "metadata": {
    "execution": {
     "iopub.execute_input": "2023-10-31T08:55:21.804084Z",
     "iopub.status.busy": "2023-10-31T08:55:21.803347Z",
     "iopub.status.idle": "2023-10-31T08:55:21.892111Z",
     "shell.execute_reply": "2023-10-31T08:55:21.891130Z"
    },
    "papermill": {
     "duration": 0.133127,
     "end_time": "2023-10-31T08:55:21.894189",
     "exception": false,
     "start_time": "2023-10-31T08:55:21.761062",
     "status": "completed"
    },
    "tags": []
   },
   "outputs": [
    {
     "data": {
      "text/html": [
       "<div>\n",
       "<style scoped>\n",
       "    .dataframe tbody tr th:only-of-type {\n",
       "        vertical-align: middle;\n",
       "    }\n",
       "\n",
       "    .dataframe tbody tr th {\n",
       "        vertical-align: top;\n",
       "    }\n",
       "\n",
       "    .dataframe thead th {\n",
       "        text-align: right;\n",
       "    }\n",
       "</style>\n",
       "<table border=\"1\" class=\"dataframe\">\n",
       "  <thead>\n",
       "    <tr style=\"text-align: right;\">\n",
       "      <th></th>\n",
       "      <th>RevolvingUtilizationOfUnsecuredLines</th>\n",
       "      <th>age</th>\n",
       "      <th>NumberOfTime30-59DaysPastDueNotWorse</th>\n",
       "      <th>DebtRatio</th>\n",
       "      <th>MonthlyIncome</th>\n",
       "      <th>NumberOfOpenCreditLinesAndLoans</th>\n",
       "      <th>NumberOfTimes90DaysLate</th>\n",
       "      <th>NumberRealEstateLoansOrLines</th>\n",
       "      <th>NumberOfTime60-89DaysPastDueNotWorse</th>\n",
       "      <th>NumberOfDependents</th>\n",
       "    </tr>\n",
       "  </thead>\n",
       "  <tbody>\n",
       "    <tr>\n",
       "      <th>count</th>\n",
       "      <td>1.500000e+05</td>\n",
       "      <td>150000.000000</td>\n",
       "      <td>150000.000000</td>\n",
       "      <td>1.500000e+05</td>\n",
       "      <td>150000.000000</td>\n",
       "      <td>150000.000000</td>\n",
       "      <td>150000.000000</td>\n",
       "      <td>150000.000000</td>\n",
       "      <td>150000.000000</td>\n",
       "      <td>150000.000000</td>\n",
       "    </tr>\n",
       "    <tr>\n",
       "      <th>mean</th>\n",
       "      <td>1.192798e-04</td>\n",
       "      <td>0.479773</td>\n",
       "      <td>0.004296</td>\n",
       "      <td>1.070803e-03</td>\n",
       "      <td>0.002217</td>\n",
       "      <td>0.145737</td>\n",
       "      <td>0.002714</td>\n",
       "      <td>0.018856</td>\n",
       "      <td>0.002453</td>\n",
       "      <td>0.036871</td>\n",
       "    </tr>\n",
       "    <tr>\n",
       "      <th>std</th>\n",
       "      <td>4.925364e-03</td>\n",
       "      <td>0.135522</td>\n",
       "      <td>0.042783</td>\n",
       "      <td>6.181502e-03</td>\n",
       "      <td>0.004281</td>\n",
       "      <td>0.088723</td>\n",
       "      <td>0.042544</td>\n",
       "      <td>0.020922</td>\n",
       "      <td>0.042400</td>\n",
       "      <td>0.055351</td>\n",
       "    </tr>\n",
       "    <tr>\n",
       "      <th>min</th>\n",
       "      <td>0.000000e+00</td>\n",
       "      <td>0.000000</td>\n",
       "      <td>0.000000</td>\n",
       "      <td>0.000000e+00</td>\n",
       "      <td>0.000000</td>\n",
       "      <td>0.000000</td>\n",
       "      <td>0.000000</td>\n",
       "      <td>0.000000</td>\n",
       "      <td>0.000000</td>\n",
       "      <td>0.000000</td>\n",
       "    </tr>\n",
       "    <tr>\n",
       "      <th>25%</th>\n",
       "      <td>5.890085e-07</td>\n",
       "      <td>0.376147</td>\n",
       "      <td>0.000000</td>\n",
       "      <td>5.310675e-07</td>\n",
       "      <td>0.001297</td>\n",
       "      <td>0.086207</td>\n",
       "      <td>0.000000</td>\n",
       "      <td>0.000000</td>\n",
       "      <td>0.000000</td>\n",
       "      <td>0.000000</td>\n",
       "    </tr>\n",
       "    <tr>\n",
       "      <th>50%</th>\n",
       "      <td>3.040560e-06</td>\n",
       "      <td>0.477064</td>\n",
       "      <td>0.000000</td>\n",
       "      <td>1.111762e-06</td>\n",
       "      <td>0.002194</td>\n",
       "      <td>0.137931</td>\n",
       "      <td>0.000000</td>\n",
       "      <td>0.018519</td>\n",
       "      <td>0.000000</td>\n",
       "      <td>0.000000</td>\n",
       "    </tr>\n",
       "    <tr>\n",
       "      <th>75%</th>\n",
       "      <td>1.102481e-05</td>\n",
       "      <td>0.577982</td>\n",
       "      <td>0.000000</td>\n",
       "      <td>2.633754e-06</td>\n",
       "      <td>0.002459</td>\n",
       "      <td>0.189655</td>\n",
       "      <td>0.000000</td>\n",
       "      <td>0.037037</td>\n",
       "      <td>0.000000</td>\n",
       "      <td>0.050000</td>\n",
       "    </tr>\n",
       "    <tr>\n",
       "      <th>max</th>\n",
       "      <td>1.000000e+00</td>\n",
       "      <td>1.000000</td>\n",
       "      <td>1.000000</td>\n",
       "      <td>1.000000e+00</td>\n",
       "      <td>1.000000</td>\n",
       "      <td>1.000000</td>\n",
       "      <td>1.000000</td>\n",
       "      <td>1.000000</td>\n",
       "      <td>1.000000</td>\n",
       "      <td>1.000000</td>\n",
       "    </tr>\n",
       "  </tbody>\n",
       "</table>\n",
       "</div>"
      ],
      "text/plain": [
       "       RevolvingUtilizationOfUnsecuredLines            age  \\\n",
       "count                          1.500000e+05  150000.000000   \n",
       "mean                           1.192798e-04       0.479773   \n",
       "std                            4.925364e-03       0.135522   \n",
       "min                            0.000000e+00       0.000000   \n",
       "25%                            5.890085e-07       0.376147   \n",
       "50%                            3.040560e-06       0.477064   \n",
       "75%                            1.102481e-05       0.577982   \n",
       "max                            1.000000e+00       1.000000   \n",
       "\n",
       "       NumberOfTime30-59DaysPastDueNotWorse     DebtRatio  MonthlyIncome  \\\n",
       "count                         150000.000000  1.500000e+05  150000.000000   \n",
       "mean                               0.004296  1.070803e-03       0.002217   \n",
       "std                                0.042783  6.181502e-03       0.004281   \n",
       "min                                0.000000  0.000000e+00       0.000000   \n",
       "25%                                0.000000  5.310675e-07       0.001297   \n",
       "50%                                0.000000  1.111762e-06       0.002194   \n",
       "75%                                0.000000  2.633754e-06       0.002459   \n",
       "max                                1.000000  1.000000e+00       1.000000   \n",
       "\n",
       "       NumberOfOpenCreditLinesAndLoans  NumberOfTimes90DaysLate  \\\n",
       "count                    150000.000000            150000.000000   \n",
       "mean                          0.145737                 0.002714   \n",
       "std                           0.088723                 0.042544   \n",
       "min                           0.000000                 0.000000   \n",
       "25%                           0.086207                 0.000000   \n",
       "50%                           0.137931                 0.000000   \n",
       "75%                           0.189655                 0.000000   \n",
       "max                           1.000000                 1.000000   \n",
       "\n",
       "       NumberRealEstateLoansOrLines  NumberOfTime60-89DaysPastDueNotWorse  \\\n",
       "count                 150000.000000                         150000.000000   \n",
       "mean                       0.018856                              0.002453   \n",
       "std                        0.020922                              0.042400   \n",
       "min                        0.000000                              0.000000   \n",
       "25%                        0.000000                              0.000000   \n",
       "50%                        0.018519                              0.000000   \n",
       "75%                        0.037037                              0.000000   \n",
       "max                        1.000000                              1.000000   \n",
       "\n",
       "       NumberOfDependents  \n",
       "count       150000.000000  \n",
       "mean             0.036871  \n",
       "std              0.055351  \n",
       "min              0.000000  \n",
       "25%              0.000000  \n",
       "50%              0.000000  \n",
       "75%              0.050000  \n",
       "max              1.000000  "
      ]
     },
     "execution_count": 39,
     "metadata": {},
     "output_type": "execute_result"
    }
   ],
   "source": [
    "#After Scaling\n",
    "scaled_df.describe()"
   ]
  },
  {
   "cell_type": "code",
   "execution_count": 40,
   "id": "4c63888a",
   "metadata": {
    "execution": {
     "iopub.execute_input": "2023-10-31T08:55:21.974641Z",
     "iopub.status.busy": "2023-10-31T08:55:21.974313Z",
     "iopub.status.idle": "2023-10-31T08:55:22.045253Z",
     "shell.execute_reply": "2023-10-31T08:55:22.044299Z"
    },
    "papermill": {
     "duration": 0.114341,
     "end_time": "2023-10-31T08:55:22.048016",
     "exception": false,
     "start_time": "2023-10-31T08:55:21.933675",
     "status": "completed"
    },
    "tags": []
   },
   "outputs": [
    {
     "data": {
      "text/html": [
       "<div>\n",
       "<style scoped>\n",
       "    .dataframe tbody tr th:only-of-type {\n",
       "        vertical-align: middle;\n",
       "    }\n",
       "\n",
       "    .dataframe tbody tr th {\n",
       "        vertical-align: top;\n",
       "    }\n",
       "\n",
       "    .dataframe thead th {\n",
       "        text-align: right;\n",
       "    }\n",
       "</style>\n",
       "<table border=\"1\" class=\"dataframe\">\n",
       "  <thead>\n",
       "    <tr style=\"text-align: right;\">\n",
       "      <th></th>\n",
       "      <th>RevolvingUtilizationOfUnsecuredLines</th>\n",
       "      <th>age</th>\n",
       "      <th>NumberOfTime30-59DaysPastDueNotWorse</th>\n",
       "      <th>DebtRatio</th>\n",
       "      <th>MonthlyIncome</th>\n",
       "      <th>NumberOfOpenCreditLinesAndLoans</th>\n",
       "      <th>NumberOfTimes90DaysLate</th>\n",
       "      <th>NumberRealEstateLoansOrLines</th>\n",
       "      <th>NumberOfTime60-89DaysPastDueNotWorse</th>\n",
       "      <th>NumberOfDependents</th>\n",
       "    </tr>\n",
       "  </thead>\n",
       "  <tbody>\n",
       "    <tr>\n",
       "      <th>count</th>\n",
       "      <td>101503.000000</td>\n",
       "      <td>101503.000000</td>\n",
       "      <td>101503.000000</td>\n",
       "      <td>1.015030e+05</td>\n",
       "      <td>101503.000000</td>\n",
       "      <td>101503.000000</td>\n",
       "      <td>101503.000000</td>\n",
       "      <td>101503.000000</td>\n",
       "      <td>101503.000000</td>\n",
       "      <td>101503.000000</td>\n",
       "    </tr>\n",
       "    <tr>\n",
       "      <th>mean</th>\n",
       "      <td>0.000243</td>\n",
       "      <td>0.378379</td>\n",
       "      <td>0.004630</td>\n",
       "      <td>1.283793e-03</td>\n",
       "      <td>0.000887</td>\n",
       "      <td>0.099453</td>\n",
       "      <td>0.003027</td>\n",
       "      <td>0.027380</td>\n",
       "      <td>0.002758</td>\n",
       "      <td>0.017422</td>\n",
       "    </tr>\n",
       "    <tr>\n",
       "      <th>std</th>\n",
       "      <td>0.008989</td>\n",
       "      <td>0.178069</td>\n",
       "      <td>0.046311</td>\n",
       "      <td>6.084372e-03</td>\n",
       "      <td>0.004231</td>\n",
       "      <td>0.060519</td>\n",
       "      <td>0.046080</td>\n",
       "      <td>0.030007</td>\n",
       "      <td>0.045955</td>\n",
       "      <td>0.026247</td>\n",
       "    </tr>\n",
       "    <tr>\n",
       "      <th>min</th>\n",
       "      <td>0.000000</td>\n",
       "      <td>0.000000</td>\n",
       "      <td>0.000000</td>\n",
       "      <td>0.000000e+00</td>\n",
       "      <td>0.000000</td>\n",
       "      <td>0.000000</td>\n",
       "      <td>0.000000</td>\n",
       "      <td>0.000000</td>\n",
       "      <td>0.000000</td>\n",
       "      <td>0.000000</td>\n",
       "    </tr>\n",
       "    <tr>\n",
       "      <th>25%</th>\n",
       "      <td>0.000001</td>\n",
       "      <td>0.240964</td>\n",
       "      <td>0.000000</td>\n",
       "      <td>6.463164e-07</td>\n",
       "      <td>0.000505</td>\n",
       "      <td>0.058824</td>\n",
       "      <td>0.000000</td>\n",
       "      <td>0.000000</td>\n",
       "      <td>0.000000</td>\n",
       "      <td>0.000000</td>\n",
       "    </tr>\n",
       "    <tr>\n",
       "      <th>50%</th>\n",
       "      <td>0.000007</td>\n",
       "      <td>0.373494</td>\n",
       "      <td>0.000000</td>\n",
       "      <td>1.357527e-06</td>\n",
       "      <td>0.000852</td>\n",
       "      <td>0.094118</td>\n",
       "      <td>0.000000</td>\n",
       "      <td>0.027027</td>\n",
       "      <td>0.000000</td>\n",
       "      <td>0.000000</td>\n",
       "    </tr>\n",
       "    <tr>\n",
       "      <th>75%</th>\n",
       "      <td>0.000026</td>\n",
       "      <td>0.506024</td>\n",
       "      <td>0.000000</td>\n",
       "      <td>3.173823e-06</td>\n",
       "      <td>0.000954</td>\n",
       "      <td>0.129412</td>\n",
       "      <td>0.000000</td>\n",
       "      <td>0.054054</td>\n",
       "      <td>0.000000</td>\n",
       "      <td>0.023256</td>\n",
       "    </tr>\n",
       "    <tr>\n",
       "      <th>max</th>\n",
       "      <td>1.000000</td>\n",
       "      <td>1.000000</td>\n",
       "      <td>1.000000</td>\n",
       "      <td>1.000000e+00</td>\n",
       "      <td>1.000000</td>\n",
       "      <td>1.000000</td>\n",
       "      <td>1.000000</td>\n",
       "      <td>1.000000</td>\n",
       "      <td>1.000000</td>\n",
       "      <td>1.000000</td>\n",
       "    </tr>\n",
       "  </tbody>\n",
       "</table>\n",
       "</div>"
      ],
      "text/plain": [
       "       RevolvingUtilizationOfUnsecuredLines            age  \\\n",
       "count                         101503.000000  101503.000000   \n",
       "mean                               0.000243       0.378379   \n",
       "std                                0.008989       0.178069   \n",
       "min                                0.000000       0.000000   \n",
       "25%                                0.000001       0.240964   \n",
       "50%                                0.000007       0.373494   \n",
       "75%                                0.000026       0.506024   \n",
       "max                                1.000000       1.000000   \n",
       "\n",
       "       NumberOfTime30-59DaysPastDueNotWorse     DebtRatio  MonthlyIncome  \\\n",
       "count                         101503.000000  1.015030e+05  101503.000000   \n",
       "mean                               0.004630  1.283793e-03       0.000887   \n",
       "std                                0.046311  6.084372e-03       0.004231   \n",
       "min                                0.000000  0.000000e+00       0.000000   \n",
       "25%                                0.000000  6.463164e-07       0.000505   \n",
       "50%                                0.000000  1.357527e-06       0.000852   \n",
       "75%                                0.000000  3.173823e-06       0.000954   \n",
       "max                                1.000000  1.000000e+00       1.000000   \n",
       "\n",
       "       NumberOfOpenCreditLinesAndLoans  NumberOfTimes90DaysLate  \\\n",
       "count                    101503.000000            101503.000000   \n",
       "mean                          0.099453                 0.003027   \n",
       "std                           0.060519                 0.046080   \n",
       "min                           0.000000                 0.000000   \n",
       "25%                           0.058824                 0.000000   \n",
       "50%                           0.094118                 0.000000   \n",
       "75%                           0.129412                 0.000000   \n",
       "max                           1.000000                 1.000000   \n",
       "\n",
       "       NumberRealEstateLoansOrLines  NumberOfTime60-89DaysPastDueNotWorse  \\\n",
       "count                 101503.000000                         101503.000000   \n",
       "mean                       0.027380                              0.002758   \n",
       "std                        0.030007                              0.045955   \n",
       "min                        0.000000                              0.000000   \n",
       "25%                        0.000000                              0.000000   \n",
       "50%                        0.027027                              0.000000   \n",
       "75%                        0.054054                              0.000000   \n",
       "max                        1.000000                              1.000000   \n",
       "\n",
       "       NumberOfDependents  \n",
       "count       101503.000000  \n",
       "mean             0.017422  \n",
       "std              0.026247  \n",
       "min              0.000000  \n",
       "25%              0.000000  \n",
       "50%              0.000000  \n",
       "75%              0.023256  \n",
       "max              1.000000  "
      ]
     },
     "execution_count": 40,
     "metadata": {},
     "output_type": "execute_result"
    }
   ],
   "source": [
    "scaled_df_test.describe()"
   ]
  },
  {
   "cell_type": "markdown",
   "id": "39e27615",
   "metadata": {
    "papermill": {
     "duration": 0.03956,
     "end_time": "2023-10-31T08:55:22.127636",
     "exception": false,
     "start_time": "2023-10-31T08:55:22.088076",
     "status": "completed"
    },
    "tags": []
   },
   "source": [
    "### Splitting Dataset"
   ]
  },
  {
   "cell_type": "code",
   "execution_count": 41,
   "id": "a21dd077",
   "metadata": {
    "execution": {
     "iopub.execute_input": "2023-10-31T08:55:22.210380Z",
     "iopub.status.busy": "2023-10-31T08:55:22.209773Z",
     "iopub.status.idle": "2023-10-31T08:55:22.229432Z",
     "shell.execute_reply": "2023-10-31T08:55:22.228335Z"
    },
    "papermill": {
     "duration": 0.063829,
     "end_time": "2023-10-31T08:55:22.231923",
     "exception": false,
     "start_time": "2023-10-31T08:55:22.168094",
     "status": "completed"
    },
    "tags": []
   },
   "outputs": [
    {
     "data": {
      "text/html": [
       "<div>\n",
       "<style scoped>\n",
       "    .dataframe tbody tr th:only-of-type {\n",
       "        vertical-align: middle;\n",
       "    }\n",
       "\n",
       "    .dataframe tbody tr th {\n",
       "        vertical-align: top;\n",
       "    }\n",
       "\n",
       "    .dataframe thead th {\n",
       "        text-align: right;\n",
       "    }\n",
       "</style>\n",
       "<table border=\"1\" class=\"dataframe\">\n",
       "  <thead>\n",
       "    <tr style=\"text-align: right;\">\n",
       "      <th></th>\n",
       "      <th>RevolvingUtilizationOfUnsecuredLines</th>\n",
       "      <th>age</th>\n",
       "      <th>NumberOfTime30-59DaysPastDueNotWorse</th>\n",
       "      <th>DebtRatio</th>\n",
       "      <th>MonthlyIncome</th>\n",
       "      <th>NumberOfOpenCreditLinesAndLoans</th>\n",
       "      <th>NumberOfTimes90DaysLate</th>\n",
       "      <th>NumberRealEstateLoansOrLines</th>\n",
       "      <th>NumberOfTime60-89DaysPastDueNotWorse</th>\n",
       "      <th>NumberOfDependents</th>\n",
       "    </tr>\n",
       "  </thead>\n",
       "  <tbody>\n",
       "    <tr>\n",
       "      <th>0</th>\n",
       "      <td>0.000015</td>\n",
       "      <td>0.412844</td>\n",
       "      <td>0.020408</td>\n",
       "      <td>2.435759e-06</td>\n",
       "      <td>0.003031</td>\n",
       "      <td>0.224138</td>\n",
       "      <td>0.000000</td>\n",
       "      <td>0.111111</td>\n",
       "      <td>0.0</td>\n",
       "      <td>0.10</td>\n",
       "    </tr>\n",
       "    <tr>\n",
       "      <th>1</th>\n",
       "      <td>0.000019</td>\n",
       "      <td>0.366972</td>\n",
       "      <td>0.000000</td>\n",
       "      <td>3.696982e-07</td>\n",
       "      <td>0.000864</td>\n",
       "      <td>0.068966</td>\n",
       "      <td>0.000000</td>\n",
       "      <td>0.000000</td>\n",
       "      <td>0.0</td>\n",
       "      <td>0.05</td>\n",
       "    </tr>\n",
       "    <tr>\n",
       "      <th>2</th>\n",
       "      <td>0.000013</td>\n",
       "      <td>0.348624</td>\n",
       "      <td>0.010204</td>\n",
       "      <td>2.581822e-07</td>\n",
       "      <td>0.001011</td>\n",
       "      <td>0.034483</td>\n",
       "      <td>0.010204</td>\n",
       "      <td>0.000000</td>\n",
       "      <td>0.0</td>\n",
       "      <td>0.00</td>\n",
       "    </tr>\n",
       "    <tr>\n",
       "      <th>3</th>\n",
       "      <td>0.000005</td>\n",
       "      <td>0.275229</td>\n",
       "      <td>0.000000</td>\n",
       "      <td>1.093528e-07</td>\n",
       "      <td>0.001097</td>\n",
       "      <td>0.086207</td>\n",
       "      <td>0.000000</td>\n",
       "      <td>0.000000</td>\n",
       "      <td>0.0</td>\n",
       "      <td>0.00</td>\n",
       "    </tr>\n",
       "    <tr>\n",
       "      <th>4</th>\n",
       "      <td>0.000018</td>\n",
       "      <td>0.449541</td>\n",
       "      <td>0.010204</td>\n",
       "      <td>7.560939e-08</td>\n",
       "      <td>0.021134</td>\n",
       "      <td>0.120690</td>\n",
       "      <td>0.000000</td>\n",
       "      <td>0.018519</td>\n",
       "      <td>0.0</td>\n",
       "      <td>0.00</td>\n",
       "    </tr>\n",
       "  </tbody>\n",
       "</table>\n",
       "</div>"
      ],
      "text/plain": [
       "   RevolvingUtilizationOfUnsecuredLines       age  \\\n",
       "0                              0.000015  0.412844   \n",
       "1                              0.000019  0.366972   \n",
       "2                              0.000013  0.348624   \n",
       "3                              0.000005  0.275229   \n",
       "4                              0.000018  0.449541   \n",
       "\n",
       "   NumberOfTime30-59DaysPastDueNotWorse     DebtRatio  MonthlyIncome  \\\n",
       "0                              0.020408  2.435759e-06       0.003031   \n",
       "1                              0.000000  3.696982e-07       0.000864   \n",
       "2                              0.010204  2.581822e-07       0.001011   \n",
       "3                              0.000000  1.093528e-07       0.001097   \n",
       "4                              0.010204  7.560939e-08       0.021134   \n",
       "\n",
       "   NumberOfOpenCreditLinesAndLoans  NumberOfTimes90DaysLate  \\\n",
       "0                         0.224138                 0.000000   \n",
       "1                         0.068966                 0.000000   \n",
       "2                         0.034483                 0.010204   \n",
       "3                         0.086207                 0.000000   \n",
       "4                         0.120690                 0.000000   \n",
       "\n",
       "   NumberRealEstateLoansOrLines  NumberOfTime60-89DaysPastDueNotWorse  \\\n",
       "0                      0.111111                                   0.0   \n",
       "1                      0.000000                                   0.0   \n",
       "2                      0.000000                                   0.0   \n",
       "3                      0.000000                                   0.0   \n",
       "4                      0.018519                                   0.0   \n",
       "\n",
       "   NumberOfDependents  \n",
       "0                0.10  \n",
       "1                0.05  \n",
       "2                0.00  \n",
       "3                0.00  \n",
       "4                0.00  "
      ]
     },
     "execution_count": 41,
     "metadata": {},
     "output_type": "execute_result"
    }
   ],
   "source": [
    "X = scaled_df.copy()\n",
    "X.head()"
   ]
  },
  {
   "cell_type": "code",
   "execution_count": 42,
   "id": "66ad6382",
   "metadata": {
    "execution": {
     "iopub.execute_input": "2023-10-31T08:55:22.317139Z",
     "iopub.status.busy": "2023-10-31T08:55:22.316105Z",
     "iopub.status.idle": "2023-10-31T08:55:22.324334Z",
     "shell.execute_reply": "2023-10-31T08:55:22.323398Z"
    },
    "papermill": {
     "duration": 0.052583,
     "end_time": "2023-10-31T08:55:22.326268",
     "exception": false,
     "start_time": "2023-10-31T08:55:22.273685",
     "status": "completed"
    },
    "tags": []
   },
   "outputs": [
    {
     "data": {
      "text/plain": [
       "0    1\n",
       "1    0\n",
       "2    0\n",
       "3    0\n",
       "4    0\n",
       "Name: SeriousDlqin2yrs, dtype: int64"
      ]
     },
     "execution_count": 42,
     "metadata": {},
     "output_type": "execute_result"
    }
   ],
   "source": [
    "y = df['SeriousDlqin2yrs'].copy()\n",
    "y.head()"
   ]
  },
  {
   "cell_type": "code",
   "execution_count": 43,
   "id": "70be9e94",
   "metadata": {
    "execution": {
     "iopub.execute_input": "2023-10-31T08:55:22.410970Z",
     "iopub.status.busy": "2023-10-31T08:55:22.410582Z",
     "iopub.status.idle": "2023-10-31T08:55:22.436887Z",
     "shell.execute_reply": "2023-10-31T08:55:22.435935Z"
    },
    "papermill": {
     "duration": 0.071697,
     "end_time": "2023-10-31T08:55:22.439164",
     "exception": false,
     "start_time": "2023-10-31T08:55:22.367467",
     "status": "completed"
    },
    "tags": []
   },
   "outputs": [
    {
     "data": {
      "text/plain": [
       "0.06684"
      ]
     },
     "execution_count": 43,
     "metadata": {},
     "output_type": "execute_result"
    }
   ],
   "source": [
    "sum(y)/len(y)"
   ]
  },
  {
   "cell_type": "markdown",
   "id": "c8e5e5b1",
   "metadata": {
    "papermill": {
     "duration": 0.041543,
     "end_time": "2023-10-31T08:55:22.521712",
     "exception": false,
     "start_time": "2023-10-31T08:55:22.480169",
     "status": "completed"
    },
    "tags": []
   },
   "source": [
    "As we can see again the target is imbalance to handle it I am using stratify"
   ]
  },
  {
   "cell_type": "code",
   "execution_count": 44,
   "id": "563f4e09",
   "metadata": {
    "execution": {
     "iopub.execute_input": "2023-10-31T08:55:22.607430Z",
     "iopub.status.busy": "2023-10-31T08:55:22.606682Z",
     "iopub.status.idle": "2023-10-31T08:55:22.696533Z",
     "shell.execute_reply": "2023-10-31T08:55:22.695676Z"
    },
    "papermill": {
     "duration": 0.136086,
     "end_time": "2023-10-31T08:55:22.699110",
     "exception": false,
     "start_time": "2023-10-31T08:55:22.563024",
     "status": "completed"
    },
    "tags": []
   },
   "outputs": [],
   "source": [
    "from sklearn.model_selection import train_test_split"
   ]
  },
  {
   "cell_type": "code",
   "execution_count": 45,
   "id": "b97a42dc",
   "metadata": {
    "execution": {
     "iopub.execute_input": "2023-10-31T08:55:22.781936Z",
     "iopub.status.busy": "2023-10-31T08:55:22.781565Z",
     "iopub.status.idle": "2023-10-31T08:55:22.855077Z",
     "shell.execute_reply": "2023-10-31T08:55:22.854305Z"
    },
    "papermill": {
     "duration": 0.117579,
     "end_time": "2023-10-31T08:55:22.857363",
     "exception": false,
     "start_time": "2023-10-31T08:55:22.739784",
     "status": "completed"
    },
    "tags": []
   },
   "outputs": [],
   "source": [
    "X_train, X_test, y_train, y_test = train_test_split(X,y, test_size=0.2, random_state=777,stratify=y)"
   ]
  },
  {
   "cell_type": "code",
   "execution_count": 46,
   "id": "88d568ca",
   "metadata": {
    "execution": {
     "iopub.execute_input": "2023-10-31T08:55:22.950676Z",
     "iopub.status.busy": "2023-10-31T08:55:22.950020Z",
     "iopub.status.idle": "2023-10-31T08:55:22.972024Z",
     "shell.execute_reply": "2023-10-31T08:55:22.971179Z"
    },
    "papermill": {
     "duration": 0.065883,
     "end_time": "2023-10-31T08:55:22.973850",
     "exception": false,
     "start_time": "2023-10-31T08:55:22.907967",
     "status": "completed"
    },
    "tags": []
   },
   "outputs": [
    {
     "data": {
      "text/plain": [
       "0.06684166666666666"
      ]
     },
     "execution_count": 46,
     "metadata": {},
     "output_type": "execute_result"
    }
   ],
   "source": [
    "sum(y_train)/len(y_train)"
   ]
  },
  {
   "cell_type": "code",
   "execution_count": 47,
   "id": "b0540004",
   "metadata": {
    "execution": {
     "iopub.execute_input": "2023-10-31T08:55:23.058451Z",
     "iopub.status.busy": "2023-10-31T08:55:23.057711Z",
     "iopub.status.idle": "2023-10-31T08:55:23.068569Z",
     "shell.execute_reply": "2023-10-31T08:55:23.067497Z"
    },
    "papermill": {
     "duration": 0.056211,
     "end_time": "2023-10-31T08:55:23.070848",
     "exception": false,
     "start_time": "2023-10-31T08:55:23.014637",
     "status": "completed"
    },
    "tags": []
   },
   "outputs": [
    {
     "data": {
      "text/plain": [
       "0.06683333333333333"
      ]
     },
     "execution_count": 47,
     "metadata": {},
     "output_type": "execute_result"
    }
   ],
   "source": [
    "sum(y_test)/len(y_test)"
   ]
  },
  {
   "cell_type": "markdown",
   "id": "2038f689",
   "metadata": {
    "papermill": {
     "duration": 0.042654,
     "end_time": "2023-10-31T08:55:23.156682",
     "exception": false,
     "start_time": "2023-10-31T08:55:23.114028",
     "status": "completed"
    },
    "tags": []
   },
   "source": [
    "Both of the training and testing(eval) is now with the same ratio."
   ]
  },
  {
   "cell_type": "markdown",
   "id": "acb64fdd",
   "metadata": {
    "papermill": {
     "duration": 0.041379,
     "end_time": "2023-10-31T08:55:23.240545",
     "exception": false,
     "start_time": "2023-10-31T08:55:23.199166",
     "status": "completed"
    },
    "tags": []
   },
   "source": [
    "## Model"
   ]
  },
  {
   "cell_type": "markdown",
   "id": "f2937565",
   "metadata": {
    "papermill": {
     "duration": 0.042186,
     "end_time": "2023-10-31T08:55:23.324753",
     "exception": false,
     "start_time": "2023-10-31T08:55:23.282567",
     "status": "completed"
    },
    "tags": []
   },
   "source": [
    "### Base Model"
   ]
  },
  {
   "cell_type": "markdown",
   "id": "205af0e4",
   "metadata": {
    "papermill": {
     "duration": 0.0413,
     "end_time": "2023-10-31T08:55:23.407690",
     "exception": false,
     "start_time": "2023-10-31T08:55:23.366390",
     "status": "completed"
    },
    "tags": []
   },
   "source": [
    "The reason i use XGBoost is because it is robust and easy to use"
   ]
  },
  {
   "cell_type": "code",
   "execution_count": 48,
   "id": "fd9bb6cd",
   "metadata": {
    "execution": {
     "iopub.execute_input": "2023-10-31T08:55:23.493811Z",
     "iopub.status.busy": "2023-10-31T08:55:23.493405Z",
     "iopub.status.idle": "2023-10-31T08:55:23.498939Z",
     "shell.execute_reply": "2023-10-31T08:55:23.497826Z"
    },
    "papermill": {
     "duration": 0.05164,
     "end_time": "2023-10-31T08:55:23.500973",
     "exception": false,
     "start_time": "2023-10-31T08:55:23.449333",
     "status": "completed"
    },
    "tags": []
   },
   "outputs": [],
   "source": [
    "params = {\n",
    "    'objective': 'binary:logistic',\n",
    "    'eval_metric': 'logloss',\n",
    "    'eta': 0.1,\n",
    "    'max_depth': 4,\n",
    "    'subsample': 0.5,\n",
    "    'booster':'gbtree',\n",
    "    'colsample_bytree': 0.5,\n",
    "    'seed':777\n",
    "}"
   ]
  },
  {
   "cell_type": "code",
   "execution_count": 49,
   "id": "f9678ddb",
   "metadata": {
    "execution": {
     "iopub.execute_input": "2023-10-31T08:55:23.586746Z",
     "iopub.status.busy": "2023-10-31T08:55:23.586078Z",
     "iopub.status.idle": "2023-10-31T08:55:28.221684Z",
     "shell.execute_reply": "2023-10-31T08:55:28.220765Z"
    },
    "papermill": {
     "duration": 4.681853,
     "end_time": "2023-10-31T08:55:28.224207",
     "exception": false,
     "start_time": "2023-10-31T08:55:23.542354",
     "status": "completed"
    },
    "tags": []
   },
   "outputs": [],
   "source": [
    "import xgboost as xgb\n",
    "from sklearn.metrics import accuracy_score, precision_score, recall_score, f1_score, roc_auc_score\n",
    "dtrain = xgb.DMatrix(X_train, label=y_train)\n",
    "dtest = xgb.DMatrix(X_test, label=y_test)\n",
    "\n",
    "# Training the XGBoost model\n",
    "num_rounds = 100\n",
    "model = xgb.train(params, dtrain, num_rounds)"
   ]
  },
  {
   "cell_type": "code",
   "execution_count": 50,
   "id": "525396d0",
   "metadata": {
    "execution": {
     "iopub.execute_input": "2023-10-31T08:55:28.313771Z",
     "iopub.status.busy": "2023-10-31T08:55:28.313426Z",
     "iopub.status.idle": "2023-10-31T08:55:28.409337Z",
     "shell.execute_reply": "2023-10-31T08:55:28.408379Z"
    },
    "papermill": {
     "duration": 0.143592,
     "end_time": "2023-10-31T08:55:28.411874",
     "exception": false,
     "start_time": "2023-10-31T08:55:28.268282",
     "status": "completed"
    },
    "tags": []
   },
   "outputs": [],
   "source": [
    "# Making predictions on the test set\n",
    "y_pred = model.predict(dtest)\n",
    "predictions = [round(value) for value in y_pred]"
   ]
  },
  {
   "cell_type": "code",
   "execution_count": 51,
   "id": "b725f324",
   "metadata": {
    "execution": {
     "iopub.execute_input": "2023-10-31T08:55:28.498359Z",
     "iopub.status.busy": "2023-10-31T08:55:28.497590Z",
     "iopub.status.idle": "2023-10-31T08:55:28.632220Z",
     "shell.execute_reply": "2023-10-31T08:55:28.630861Z"
    },
    "papermill": {
     "duration": 0.180627,
     "end_time": "2023-10-31T08:55:28.634601",
     "exception": false,
     "start_time": "2023-10-31T08:55:28.453974",
     "status": "completed"
    },
    "tags": []
   },
   "outputs": [
    {
     "name": "stdout",
     "output_type": "stream",
     "text": [
      "Accuracy: 0.94\n",
      "Precision: 0.61\n",
      "Recall: 0.19\n",
      "F1-Score: 0.29\n",
      "AUC: 0.59\n"
     ]
    }
   ],
   "source": [
    "# Evaluation\n",
    "accuracy = accuracy_score(y_test, predictions)\n",
    "precision = precision_score(y_test, predictions)\n",
    "recall = recall_score(y_test, predictions)\n",
    "f1 = f1_score(y_test, predictions)\n",
    "auc = np.round(roc_auc_score(y_test, predictions), 3)\n",
    "\n",
    "print(f\"Accuracy: {accuracy:.2f}\")\n",
    "print(f\"Precision: {precision:.2f}\")\n",
    "print(f\"Recall: {recall:.2f}\")\n",
    "print(f\"F1-Score: {f1:.2f}\")\n",
    "print(f\"AUC: {auc:.2f}\")"
   ]
  },
  {
   "cell_type": "markdown",
   "id": "94d8dfc7",
   "metadata": {
    "papermill": {
     "duration": 0.040524,
     "end_time": "2023-10-31T08:55:28.717404",
     "exception": false,
     "start_time": "2023-10-31T08:55:28.676880",
     "status": "completed"
    },
    "tags": []
   },
   "source": [
    "## Model Improvement"
   ]
  },
  {
   "cell_type": "markdown",
   "id": "d553d614",
   "metadata": {
    "papermill": {
     "duration": 0.042024,
     "end_time": "2023-10-31T08:55:28.802006",
     "exception": false,
     "start_time": "2023-10-31T08:55:28.759982",
     "status": "completed"
    },
    "tags": []
   },
   "source": [
    "I am using RandomizedSearchCV to tune the parameter of my XGBoost Model"
   ]
  },
  {
   "cell_type": "code",
   "execution_count": 52,
   "id": "5a34a645",
   "metadata": {
    "execution": {
     "iopub.execute_input": "2023-10-31T08:55:28.888469Z",
     "iopub.status.busy": "2023-10-31T08:55:28.887786Z",
     "iopub.status.idle": "2023-10-31T08:55:28.892791Z",
     "shell.execute_reply": "2023-10-31T08:55:28.892169Z"
    },
    "papermill": {
     "duration": 0.050411,
     "end_time": "2023-10-31T08:55:28.894652",
     "exception": false,
     "start_time": "2023-10-31T08:55:28.844241",
     "status": "completed"
    },
    "tags": []
   },
   "outputs": [],
   "source": [
    "params_improv={\n",
    "    \"max_depth\": [5, 6, 8, 10, 12],\n",
    "    \"learning_rate\": [0.5, 0.1, 0.01, 0.001],\n",
    "    \"min_child_weight\": [1, 3, 5, 7],\n",
    "    \"gamma\": [0.0, 0.1, 0.2, 0.3],\n",
    "    \"colsample_bytree\": [0.3, 0.4, 0.5, 0.7]\n",
    "}"
   ]
  },
  {
   "cell_type": "code",
   "execution_count": 53,
   "id": "d692c6f0",
   "metadata": {
    "execution": {
     "iopub.execute_input": "2023-10-31T08:55:28.978010Z",
     "iopub.status.busy": "2023-10-31T08:55:28.977403Z",
     "iopub.status.idle": "2023-10-31T08:55:28.981213Z",
     "shell.execute_reply": "2023-10-31T08:55:28.980531Z"
    },
    "papermill": {
     "duration": 0.047908,
     "end_time": "2023-10-31T08:55:28.983085",
     "exception": false,
     "start_time": "2023-10-31T08:55:28.935177",
     "status": "completed"
    },
    "tags": []
   },
   "outputs": [],
   "source": [
    "from sklearn.model_selection import RandomizedSearchCV"
   ]
  },
  {
   "cell_type": "code",
   "execution_count": 54,
   "id": "94577770",
   "metadata": {
    "execution": {
     "iopub.execute_input": "2023-10-31T08:55:29.067019Z",
     "iopub.status.busy": "2023-10-31T08:55:29.066631Z",
     "iopub.status.idle": "2023-10-31T08:55:29.071391Z",
     "shell.execute_reply": "2023-10-31T08:55:29.070427Z"
    },
    "papermill": {
     "duration": 0.049542,
     "end_time": "2023-10-31T08:55:29.073637",
     "exception": false,
     "start_time": "2023-10-31T08:55:29.024095",
     "status": "completed"
    },
    "tags": []
   },
   "outputs": [],
   "source": [
    "xgb_init = xgb.XGBClassifier()"
   ]
  },
  {
   "cell_type": "code",
   "execution_count": 55,
   "id": "8d1db340",
   "metadata": {
    "execution": {
     "iopub.execute_input": "2023-10-31T08:55:29.158795Z",
     "iopub.status.busy": "2023-10-31T08:55:29.158000Z",
     "iopub.status.idle": "2023-10-31T08:55:29.163163Z",
     "shell.execute_reply": "2023-10-31T08:55:29.162470Z"
    },
    "papermill": {
     "duration": 0.049825,
     "end_time": "2023-10-31T08:55:29.165146",
     "exception": false,
     "start_time": "2023-10-31T08:55:29.115321",
     "status": "completed"
    },
    "tags": []
   },
   "outputs": [],
   "source": [
    "random_cv = RandomizedSearchCV(xgb_init, param_distributions=params_improv, n_iter=5, scoring=\"roc_auc\", n_jobs=1, cv=5, verbose=3)"
   ]
  },
  {
   "cell_type": "code",
   "execution_count": 56,
   "id": "e3a2768c",
   "metadata": {
    "execution": {
     "iopub.execute_input": "2023-10-31T08:55:29.250889Z",
     "iopub.status.busy": "2023-10-31T08:55:29.250303Z",
     "iopub.status.idle": "2023-10-31T08:58:34.789787Z",
     "shell.execute_reply": "2023-10-31T08:58:34.788737Z"
    },
    "papermill": {
     "duration": 185.585186,
     "end_time": "2023-10-31T08:58:34.792027",
     "exception": false,
     "start_time": "2023-10-31T08:55:29.206841",
     "status": "completed"
    },
    "tags": []
   },
   "outputs": [
    {
     "name": "stdout",
     "output_type": "stream",
     "text": [
      "Fitting 5 folds for each of 5 candidates, totalling 25 fits\n",
      "[CV 1/5] END colsample_bytree=0.3, gamma=0.1, learning_rate=0.1, max_depth=10, min_child_weight=3;, score=0.860 total time=   6.6s\n",
      "[CV 2/5] END colsample_bytree=0.3, gamma=0.1, learning_rate=0.1, max_depth=10, min_child_weight=3;, score=0.860 total time=   6.7s\n",
      "[CV 3/5] END colsample_bytree=0.3, gamma=0.1, learning_rate=0.1, max_depth=10, min_child_weight=3;, score=0.860 total time=   6.4s\n",
      "[CV 4/5] END colsample_bytree=0.3, gamma=0.1, learning_rate=0.1, max_depth=10, min_child_weight=3;, score=0.862 total time=   7.3s\n",
      "[CV 5/5] END colsample_bytree=0.3, gamma=0.1, learning_rate=0.1, max_depth=10, min_child_weight=3;, score=0.866 total time=   6.8s\n",
      "[CV 1/5] END colsample_bytree=0.3, gamma=0.1, learning_rate=0.001, max_depth=10, min_child_weight=5;, score=0.862 total time=   5.2s\n",
      "[CV 2/5] END colsample_bytree=0.3, gamma=0.1, learning_rate=0.001, max_depth=10, min_child_weight=5;, score=0.860 total time=   5.4s\n",
      "[CV 3/5] END colsample_bytree=0.3, gamma=0.1, learning_rate=0.001, max_depth=10, min_child_weight=5;, score=0.861 total time=   5.5s\n",
      "[CV 4/5] END colsample_bytree=0.3, gamma=0.1, learning_rate=0.001, max_depth=10, min_child_weight=5;, score=0.861 total time=   5.4s\n",
      "[CV 5/5] END colsample_bytree=0.3, gamma=0.1, learning_rate=0.001, max_depth=10, min_child_weight=5;, score=0.868 total time=   6.5s\n",
      "[CV 1/5] END colsample_bytree=0.4, gamma=0.0, learning_rate=0.1, max_depth=10, min_child_weight=5;, score=0.860 total time=   7.7s\n",
      "[CV 2/5] END colsample_bytree=0.4, gamma=0.0, learning_rate=0.1, max_depth=10, min_child_weight=5;, score=0.860 total time=   8.0s\n",
      "[CV 3/5] END colsample_bytree=0.4, gamma=0.0, learning_rate=0.1, max_depth=10, min_child_weight=5;, score=0.859 total time=   8.0s\n",
      "[CV 4/5] END colsample_bytree=0.4, gamma=0.0, learning_rate=0.1, max_depth=10, min_child_weight=5;, score=0.862 total time=   8.7s\n",
      "[CV 5/5] END colsample_bytree=0.4, gamma=0.0, learning_rate=0.1, max_depth=10, min_child_weight=5;, score=0.867 total time=   7.6s\n",
      "[CV 1/5] END colsample_bytree=0.7, gamma=0.1, learning_rate=0.5, max_depth=12, min_child_weight=3;, score=0.828 total time=  11.1s\n",
      "[CV 2/5] END colsample_bytree=0.7, gamma=0.1, learning_rate=0.5, max_depth=12, min_child_weight=3;, score=0.823 total time=  12.0s\n",
      "[CV 3/5] END colsample_bytree=0.7, gamma=0.1, learning_rate=0.5, max_depth=12, min_child_weight=3;, score=0.819 total time=  10.9s\n",
      "[CV 4/5] END colsample_bytree=0.7, gamma=0.1, learning_rate=0.5, max_depth=12, min_child_weight=3;, score=0.826 total time=  11.0s\n",
      "[CV 5/5] END colsample_bytree=0.7, gamma=0.1, learning_rate=0.5, max_depth=12, min_child_weight=3;, score=0.830 total time=  12.0s\n",
      "[CV 1/5] END colsample_bytree=0.4, gamma=0.2, learning_rate=0.5, max_depth=5, min_child_weight=7;, score=0.855 total time=   3.8s\n",
      "[CV 2/5] END colsample_bytree=0.4, gamma=0.2, learning_rate=0.5, max_depth=5, min_child_weight=7;, score=0.854 total time=   3.8s\n",
      "[CV 3/5] END colsample_bytree=0.4, gamma=0.2, learning_rate=0.5, max_depth=5, min_child_weight=7;, score=0.856 total time=   3.8s\n",
      "[CV 4/5] END colsample_bytree=0.4, gamma=0.2, learning_rate=0.5, max_depth=5, min_child_weight=7;, score=0.860 total time=   3.7s\n",
      "[CV 5/5] END colsample_bytree=0.4, gamma=0.2, learning_rate=0.5, max_depth=5, min_child_weight=7;, score=0.865 total time=   3.7s\n"
     ]
    },
    {
     "data": {
      "text/html": [
       "<style>#sk-container-id-1 {color: black;background-color: white;}#sk-container-id-1 pre{padding: 0;}#sk-container-id-1 div.sk-toggleable {background-color: white;}#sk-container-id-1 label.sk-toggleable__label {cursor: pointer;display: block;width: 100%;margin-bottom: 0;padding: 0.3em;box-sizing: border-box;text-align: center;}#sk-container-id-1 label.sk-toggleable__label-arrow:before {content: \"▸\";float: left;margin-right: 0.25em;color: #696969;}#sk-container-id-1 label.sk-toggleable__label-arrow:hover:before {color: black;}#sk-container-id-1 div.sk-estimator:hover label.sk-toggleable__label-arrow:before {color: black;}#sk-container-id-1 div.sk-toggleable__content {max-height: 0;max-width: 0;overflow: hidden;text-align: left;background-color: #f0f8ff;}#sk-container-id-1 div.sk-toggleable__content pre {margin: 0.2em;color: black;border-radius: 0.25em;background-color: #f0f8ff;}#sk-container-id-1 input.sk-toggleable__control:checked~div.sk-toggleable__content {max-height: 200px;max-width: 100%;overflow: auto;}#sk-container-id-1 input.sk-toggleable__control:checked~label.sk-toggleable__label-arrow:before {content: \"▾\";}#sk-container-id-1 div.sk-estimator input.sk-toggleable__control:checked~label.sk-toggleable__label {background-color: #d4ebff;}#sk-container-id-1 div.sk-label input.sk-toggleable__control:checked~label.sk-toggleable__label {background-color: #d4ebff;}#sk-container-id-1 input.sk-hidden--visually {border: 0;clip: rect(1px 1px 1px 1px);clip: rect(1px, 1px, 1px, 1px);height: 1px;margin: -1px;overflow: hidden;padding: 0;position: absolute;width: 1px;}#sk-container-id-1 div.sk-estimator {font-family: monospace;background-color: #f0f8ff;border: 1px dotted black;border-radius: 0.25em;box-sizing: border-box;margin-bottom: 0.5em;}#sk-container-id-1 div.sk-estimator:hover {background-color: #d4ebff;}#sk-container-id-1 div.sk-parallel-item::after {content: \"\";width: 100%;border-bottom: 1px solid gray;flex-grow: 1;}#sk-container-id-1 div.sk-label:hover label.sk-toggleable__label {background-color: #d4ebff;}#sk-container-id-1 div.sk-serial::before {content: \"\";position: absolute;border-left: 1px solid gray;box-sizing: border-box;top: 0;bottom: 0;left: 50%;z-index: 0;}#sk-container-id-1 div.sk-serial {display: flex;flex-direction: column;align-items: center;background-color: white;padding-right: 0.2em;padding-left: 0.2em;position: relative;}#sk-container-id-1 div.sk-item {position: relative;z-index: 1;}#sk-container-id-1 div.sk-parallel {display: flex;align-items: stretch;justify-content: center;background-color: white;position: relative;}#sk-container-id-1 div.sk-item::before, #sk-container-id-1 div.sk-parallel-item::before {content: \"\";position: absolute;border-left: 1px solid gray;box-sizing: border-box;top: 0;bottom: 0;left: 50%;z-index: -1;}#sk-container-id-1 div.sk-parallel-item {display: flex;flex-direction: column;z-index: 1;position: relative;background-color: white;}#sk-container-id-1 div.sk-parallel-item:first-child::after {align-self: flex-end;width: 50%;}#sk-container-id-1 div.sk-parallel-item:last-child::after {align-self: flex-start;width: 50%;}#sk-container-id-1 div.sk-parallel-item:only-child::after {width: 0;}#sk-container-id-1 div.sk-dashed-wrapped {border: 1px dashed gray;margin: 0 0.4em 0.5em 0.4em;box-sizing: border-box;padding-bottom: 0.4em;background-color: white;}#sk-container-id-1 div.sk-label label {font-family: monospace;font-weight: bold;display: inline-block;line-height: 1.2em;}#sk-container-id-1 div.sk-label-container {text-align: center;}#sk-container-id-1 div.sk-container {/* jupyter's `normalize.less` sets `[hidden] { display: none; }` but bootstrap.min.css set `[hidden] { display: none !important; }` so we also need the `!important` here to be able to override the default hidden behavior on the sphinx rendered scikit-learn.org. See: https://github.com/scikit-learn/scikit-learn/issues/21755 */display: inline-block !important;position: relative;}#sk-container-id-1 div.sk-text-repr-fallback {display: none;}</style><div id=\"sk-container-id-1\" class=\"sk-top-container\"><div class=\"sk-text-repr-fallback\"><pre>RandomizedSearchCV(cv=5,\n",
       "                   estimator=XGBClassifier(base_score=None, booster=None,\n",
       "                                           callbacks=None,\n",
       "                                           colsample_bylevel=None,\n",
       "                                           colsample_bynode=None,\n",
       "                                           colsample_bytree=None,\n",
       "                                           early_stopping_rounds=None,\n",
       "                                           enable_categorical=False,\n",
       "                                           eval_metric=None, feature_types=None,\n",
       "                                           gamma=None, gpu_id=None,\n",
       "                                           grow_policy=None,\n",
       "                                           importance_type=None,\n",
       "                                           interaction_constraints=None,\n",
       "                                           learning_rate...\n",
       "                                           min_child_weight=None, missing=nan,\n",
       "                                           monotone_constraints=None,\n",
       "                                           n_estimators=100, n_jobs=None,\n",
       "                                           num_parallel_tree=None,\n",
       "                                           predictor=None, random_state=None, ...),\n",
       "                   n_iter=5, n_jobs=1,\n",
       "                   param_distributions={&#x27;colsample_bytree&#x27;: [0.3, 0.4, 0.5,\n",
       "                                                             0.7],\n",
       "                                        &#x27;gamma&#x27;: [0.0, 0.1, 0.2, 0.3],\n",
       "                                        &#x27;learning_rate&#x27;: [0.5, 0.1, 0.01,\n",
       "                                                          0.001],\n",
       "                                        &#x27;max_depth&#x27;: [5, 6, 8, 10, 12],\n",
       "                                        &#x27;min_child_weight&#x27;: [1, 3, 5, 7]},\n",
       "                   scoring=&#x27;roc_auc&#x27;, verbose=3)</pre><b>In a Jupyter environment, please rerun this cell to show the HTML representation or trust the notebook. <br />On GitHub, the HTML representation is unable to render, please try loading this page with nbviewer.org.</b></div><div class=\"sk-container\" hidden><div class=\"sk-item sk-dashed-wrapped\"><div class=\"sk-label-container\"><div class=\"sk-label sk-toggleable\"><input class=\"sk-toggleable__control sk-hidden--visually\" id=\"sk-estimator-id-1\" type=\"checkbox\" ><label for=\"sk-estimator-id-1\" class=\"sk-toggleable__label sk-toggleable__label-arrow\">RandomizedSearchCV</label><div class=\"sk-toggleable__content\"><pre>RandomizedSearchCV(cv=5,\n",
       "                   estimator=XGBClassifier(base_score=None, booster=None,\n",
       "                                           callbacks=None,\n",
       "                                           colsample_bylevel=None,\n",
       "                                           colsample_bynode=None,\n",
       "                                           colsample_bytree=None,\n",
       "                                           early_stopping_rounds=None,\n",
       "                                           enable_categorical=False,\n",
       "                                           eval_metric=None, feature_types=None,\n",
       "                                           gamma=None, gpu_id=None,\n",
       "                                           grow_policy=None,\n",
       "                                           importance_type=None,\n",
       "                                           interaction_constraints=None,\n",
       "                                           learning_rate...\n",
       "                                           min_child_weight=None, missing=nan,\n",
       "                                           monotone_constraints=None,\n",
       "                                           n_estimators=100, n_jobs=None,\n",
       "                                           num_parallel_tree=None,\n",
       "                                           predictor=None, random_state=None, ...),\n",
       "                   n_iter=5, n_jobs=1,\n",
       "                   param_distributions={&#x27;colsample_bytree&#x27;: [0.3, 0.4, 0.5,\n",
       "                                                             0.7],\n",
       "                                        &#x27;gamma&#x27;: [0.0, 0.1, 0.2, 0.3],\n",
       "                                        &#x27;learning_rate&#x27;: [0.5, 0.1, 0.01,\n",
       "                                                          0.001],\n",
       "                                        &#x27;max_depth&#x27;: [5, 6, 8, 10, 12],\n",
       "                                        &#x27;min_child_weight&#x27;: [1, 3, 5, 7]},\n",
       "                   scoring=&#x27;roc_auc&#x27;, verbose=3)</pre></div></div></div><div class=\"sk-parallel\"><div class=\"sk-parallel-item\"><div class=\"sk-item\"><div class=\"sk-label-container\"><div class=\"sk-label sk-toggleable\"><input class=\"sk-toggleable__control sk-hidden--visually\" id=\"sk-estimator-id-2\" type=\"checkbox\" ><label for=\"sk-estimator-id-2\" class=\"sk-toggleable__label sk-toggleable__label-arrow\">estimator: XGBClassifier</label><div class=\"sk-toggleable__content\"><pre>XGBClassifier(base_score=None, booster=None, callbacks=None,\n",
       "              colsample_bylevel=None, colsample_bynode=None,\n",
       "              colsample_bytree=None, early_stopping_rounds=None,\n",
       "              enable_categorical=False, eval_metric=None, feature_types=None,\n",
       "              gamma=None, gpu_id=None, grow_policy=None, importance_type=None,\n",
       "              interaction_constraints=None, learning_rate=None, max_bin=None,\n",
       "              max_cat_threshold=None, max_cat_to_onehot=None,\n",
       "              max_delta_step=None, max_depth=None, max_leaves=None,\n",
       "              min_child_weight=None, missing=nan, monotone_constraints=None,\n",
       "              n_estimators=100, n_jobs=None, num_parallel_tree=None,\n",
       "              predictor=None, random_state=None, ...)</pre></div></div></div><div class=\"sk-serial\"><div class=\"sk-item\"><div class=\"sk-estimator sk-toggleable\"><input class=\"sk-toggleable__control sk-hidden--visually\" id=\"sk-estimator-id-3\" type=\"checkbox\" ><label for=\"sk-estimator-id-3\" class=\"sk-toggleable__label sk-toggleable__label-arrow\">XGBClassifier</label><div class=\"sk-toggleable__content\"><pre>XGBClassifier(base_score=None, booster=None, callbacks=None,\n",
       "              colsample_bylevel=None, colsample_bynode=None,\n",
       "              colsample_bytree=None, early_stopping_rounds=None,\n",
       "              enable_categorical=False, eval_metric=None, feature_types=None,\n",
       "              gamma=None, gpu_id=None, grow_policy=None, importance_type=None,\n",
       "              interaction_constraints=None, learning_rate=None, max_bin=None,\n",
       "              max_cat_threshold=None, max_cat_to_onehot=None,\n",
       "              max_delta_step=None, max_depth=None, max_leaves=None,\n",
       "              min_child_weight=None, missing=nan, monotone_constraints=None,\n",
       "              n_estimators=100, n_jobs=None, num_parallel_tree=None,\n",
       "              predictor=None, random_state=None, ...)</pre></div></div></div></div></div></div></div></div></div></div>"
      ],
      "text/plain": [
       "RandomizedSearchCV(cv=5,\n",
       "                   estimator=XGBClassifier(base_score=None, booster=None,\n",
       "                                           callbacks=None,\n",
       "                                           colsample_bylevel=None,\n",
       "                                           colsample_bynode=None,\n",
       "                                           colsample_bytree=None,\n",
       "                                           early_stopping_rounds=None,\n",
       "                                           enable_categorical=False,\n",
       "                                           eval_metric=None, feature_types=None,\n",
       "                                           gamma=None, gpu_id=None,\n",
       "                                           grow_policy=None,\n",
       "                                           importance_type=None,\n",
       "                                           interaction_constraints=None,\n",
       "                                           learning_rate...\n",
       "                                           min_child_weight=None, missing=nan,\n",
       "                                           monotone_constraints=None,\n",
       "                                           n_estimators=100, n_jobs=None,\n",
       "                                           num_parallel_tree=None,\n",
       "                                           predictor=None, random_state=None, ...),\n",
       "                   n_iter=5, n_jobs=1,\n",
       "                   param_distributions={'colsample_bytree': [0.3, 0.4, 0.5,\n",
       "                                                             0.7],\n",
       "                                        'gamma': [0.0, 0.1, 0.2, 0.3],\n",
       "                                        'learning_rate': [0.5, 0.1, 0.01,\n",
       "                                                          0.001],\n",
       "                                        'max_depth': [5, 6, 8, 10, 12],\n",
       "                                        'min_child_weight': [1, 3, 5, 7]},\n",
       "                   scoring='roc_auc', verbose=3)"
      ]
     },
     "execution_count": 56,
     "metadata": {},
     "output_type": "execute_result"
    }
   ],
   "source": [
    "random_cv.fit(X, y)"
   ]
  },
  {
   "cell_type": "code",
   "execution_count": 57,
   "id": "fafe7797",
   "metadata": {
    "execution": {
     "iopub.execute_input": "2023-10-31T08:58:34.883150Z",
     "iopub.status.busy": "2023-10-31T08:58:34.882103Z",
     "iopub.status.idle": "2023-10-31T08:58:34.890874Z",
     "shell.execute_reply": "2023-10-31T08:58:34.889872Z"
    },
    "papermill": {
     "duration": 0.057045,
     "end_time": "2023-10-31T08:58:34.893149",
     "exception": false,
     "start_time": "2023-10-31T08:58:34.836104",
     "status": "completed"
    },
    "tags": []
   },
   "outputs": [
    {
     "data": {
      "text/plain": [
       "{'min_child_weight': 5,\n",
       " 'max_depth': 10,\n",
       " 'learning_rate': 0.001,\n",
       " 'gamma': 0.1,\n",
       " 'colsample_bytree': 0.3}"
      ]
     },
     "execution_count": 57,
     "metadata": {},
     "output_type": "execute_result"
    }
   ],
   "source": [
    "random_cv.best_params_"
   ]
  },
  {
   "cell_type": "markdown",
   "id": "1042f5fd",
   "metadata": {
    "papermill": {
     "duration": 0.044862,
     "end_time": "2023-10-31T08:58:34.982946",
     "exception": false,
     "start_time": "2023-10-31T08:58:34.938084",
     "status": "completed"
    },
    "tags": []
   },
   "source": [
    "## Final XGBoost Model"
   ]
  },
  {
   "cell_type": "code",
   "execution_count": 58,
   "id": "613fec26",
   "metadata": {
    "execution": {
     "iopub.execute_input": "2023-10-31T08:58:35.075331Z",
     "iopub.status.busy": "2023-10-31T08:58:35.074968Z",
     "iopub.status.idle": "2023-10-31T08:58:35.080328Z",
     "shell.execute_reply": "2023-10-31T08:58:35.079203Z"
    },
    "papermill": {
     "duration": 0.05451,
     "end_time": "2023-10-31T08:58:35.082485",
     "exception": false,
     "start_time": "2023-10-31T08:58:35.027975",
     "status": "completed"
    },
    "tags": []
   },
   "outputs": [],
   "source": [
    "params = {\n",
    " 'objective': 'binary:logistic',\n",
    " 'eval_metric': 'logloss',\n",
    " 'booster': 'gbtree',\n",
    " 'eta' : 0.1,\n",
    " 'min_child_weight': 2,\n",
    " 'max_depth': 10,\n",
    " 'learning_rate': 0.005,\n",
    " 'gamma': 0.4,\n",
    " 'colsample_bytree': 0.7,\n",
    " 'random_state':0,\n",
    " 'reg_alpha':0,\n",
    " 'reg_lambda':0,\n",
    " 'subsample':0.6,\n",
    "}"
   ]
  },
  {
   "cell_type": "code",
   "execution_count": 59,
   "id": "d737da6b",
   "metadata": {
    "execution": {
     "iopub.execute_input": "2023-10-31T08:58:35.172591Z",
     "iopub.status.busy": "2023-10-31T08:58:35.172239Z",
     "iopub.status.idle": "2023-10-31T08:58:45.129171Z",
     "shell.execute_reply": "2023-10-31T08:58:45.128298Z"
    },
    "papermill": {
     "duration": 10.005145,
     "end_time": "2023-10-31T08:58:45.131549",
     "exception": false,
     "start_time": "2023-10-31T08:58:35.126404",
     "status": "completed"
    },
    "tags": []
   },
   "outputs": [],
   "source": [
    "# Training the XGBoost model\n",
    "dtrain1 = xgb.DMatrix(X_train, label=y_train)\n",
    "dtest1 = xgb.DMatrix(X_test, label=y_test)\n",
    "\n",
    "num_rounds = 100\n",
    "model = xgb.train(params, dtrain1, num_rounds)"
   ]
  },
  {
   "cell_type": "code",
   "execution_count": 60,
   "id": "e6e73b45",
   "metadata": {
    "execution": {
     "iopub.execute_input": "2023-10-31T08:58:45.227395Z",
     "iopub.status.busy": "2023-10-31T08:58:45.227006Z",
     "iopub.status.idle": "2023-10-31T08:58:45.365889Z",
     "shell.execute_reply": "2023-10-31T08:58:45.364694Z"
    },
    "papermill": {
     "duration": 0.190674,
     "end_time": "2023-10-31T08:58:45.368711",
     "exception": false,
     "start_time": "2023-10-31T08:58:45.178037",
     "status": "completed"
    },
    "tags": []
   },
   "outputs": [],
   "source": [
    "# Making predictions on the test set\n",
    "y_pred = model.predict(dtest1)\n",
    "predictions = [round(value) for value in y_pred]"
   ]
  },
  {
   "cell_type": "code",
   "execution_count": 61,
   "id": "7d0f37b2",
   "metadata": {
    "execution": {
     "iopub.execute_input": "2023-10-31T08:58:45.462472Z",
     "iopub.status.busy": "2023-10-31T08:58:45.462059Z",
     "iopub.status.idle": "2023-10-31T08:58:45.599146Z",
     "shell.execute_reply": "2023-10-31T08:58:45.597952Z"
    },
    "papermill": {
     "duration": 0.187135,
     "end_time": "2023-10-31T08:58:45.601780",
     "exception": false,
     "start_time": "2023-10-31T08:58:45.414645",
     "status": "completed"
    },
    "tags": []
   },
   "outputs": [
    {
     "name": "stdout",
     "output_type": "stream",
     "text": [
      "Accuracy: 0.94\n",
      "Precision: 0.64\n",
      "Recall: 0.12\n",
      "F1-Score: 0.20\n",
      "AUC: 0.56\n"
     ]
    }
   ],
   "source": [
    "# Evaluation\n",
    "accuracy = accuracy_score(y_test, predictions)\n",
    "precision = precision_score(y_test, predictions)\n",
    "recall = recall_score(y_test, predictions)\n",
    "f1 = f1_score(y_test, predictions)\n",
    "auc = np.round(roc_auc_score(y_test, predictions), 3)\n",
    "\n",
    "print(f\"Accuracy: {accuracy:.2f}\")\n",
    "print(f\"Precision: {precision:.2f}\")\n",
    "print(f\"Recall: {recall:.2f}\")\n",
    "print(f\"F1-Score: {f1:.2f}\")\n",
    "print(f\"AUC: {auc:.2f}\")"
   ]
  },
  {
   "cell_type": "markdown",
   "id": "27c388c5",
   "metadata": {
    "papermill": {
     "duration": 0.046031,
     "end_time": "2023-10-31T08:58:45.693221",
     "exception": false,
     "start_time": "2023-10-31T08:58:45.647190",
     "status": "completed"
    },
    "tags": []
   },
   "source": [
    "After doing RandomSearchCV, there is not that much improvement."
   ]
  },
  {
   "cell_type": "code",
   "execution_count": 62,
   "id": "9daa6a95",
   "metadata": {
    "execution": {
     "iopub.execute_input": "2023-10-31T08:58:45.788086Z",
     "iopub.status.busy": "2023-10-31T08:58:45.787706Z",
     "iopub.status.idle": "2023-10-31T08:58:46.001927Z",
     "shell.execute_reply": "2023-10-31T08:58:46.001032Z"
    },
    "papermill": {
     "duration": 0.265806,
     "end_time": "2023-10-31T08:58:46.004339",
     "exception": false,
     "start_time": "2023-10-31T08:58:45.738533",
     "status": "completed"
    },
    "tags": []
   },
   "outputs": [
    {
     "data": {
      "text/plain": [
       "array([0.3709507 , 0.3904666 , 0.3165957 , ..., 0.31051287, 0.4117901 ,\n",
       "       0.37461814], dtype=float32)"
      ]
     },
     "execution_count": 62,
     "metadata": {},
     "output_type": "execute_result"
    }
   ],
   "source": [
    "col_input = scaled_df_test\n",
    "dtest_inputs = xgb.DMatrix(col_input)\n",
    "probs=model.predict(dtest_inputs)\n",
    "probs"
   ]
  },
  {
   "cell_type": "code",
   "execution_count": 63,
   "id": "6f6d7838",
   "metadata": {
    "execution": {
     "iopub.execute_input": "2023-10-31T08:58:46.099280Z",
     "iopub.status.busy": "2023-10-31T08:58:46.098622Z",
     "iopub.status.idle": "2023-10-31T08:58:46.127470Z",
     "shell.execute_reply": "2023-10-31T08:58:46.126716Z"
    },
    "papermill": {
     "duration": 0.078897,
     "end_time": "2023-10-31T08:58:46.129537",
     "exception": false,
     "start_time": "2023-10-31T08:58:46.050640",
     "status": "completed"
    },
    "tags": []
   },
   "outputs": [
    {
     "data": {
      "text/html": [
       "<div>\n",
       "<style scoped>\n",
       "    .dataframe tbody tr th:only-of-type {\n",
       "        vertical-align: middle;\n",
       "    }\n",
       "\n",
       "    .dataframe tbody tr th {\n",
       "        vertical-align: top;\n",
       "    }\n",
       "\n",
       "    .dataframe thead th {\n",
       "        text-align: right;\n",
       "    }\n",
       "</style>\n",
       "<table border=\"1\" class=\"dataframe\">\n",
       "  <thead>\n",
       "    <tr style=\"text-align: right;\">\n",
       "      <th></th>\n",
       "      <th>Id</th>\n",
       "      <th>Probability</th>\n",
       "    </tr>\n",
       "  </thead>\n",
       "  <tbody>\n",
       "    <tr>\n",
       "      <th>0</th>\n",
       "      <td>1</td>\n",
       "      <td>0.370951</td>\n",
       "    </tr>\n",
       "    <tr>\n",
       "      <th>1</th>\n",
       "      <td>2</td>\n",
       "      <td>0.390467</td>\n",
       "    </tr>\n",
       "    <tr>\n",
       "      <th>2</th>\n",
       "      <td>3</td>\n",
       "      <td>0.316596</td>\n",
       "    </tr>\n",
       "    <tr>\n",
       "      <th>3</th>\n",
       "      <td>4</td>\n",
       "      <td>0.373084</td>\n",
       "    </tr>\n",
       "    <tr>\n",
       "      <th>4</th>\n",
       "      <td>5</td>\n",
       "      <td>0.364910</td>\n",
       "    </tr>\n",
       "    <tr>\n",
       "      <th>...</th>\n",
       "      <td>...</td>\n",
       "      <td>...</td>\n",
       "    </tr>\n",
       "    <tr>\n",
       "      <th>101498</th>\n",
       "      <td>101499</td>\n",
       "      <td>0.325472</td>\n",
       "    </tr>\n",
       "    <tr>\n",
       "      <th>101499</th>\n",
       "      <td>101500</td>\n",
       "      <td>0.456091</td>\n",
       "    </tr>\n",
       "    <tr>\n",
       "      <th>101500</th>\n",
       "      <td>101501</td>\n",
       "      <td>0.310513</td>\n",
       "    </tr>\n",
       "    <tr>\n",
       "      <th>101501</th>\n",
       "      <td>101502</td>\n",
       "      <td>0.411790</td>\n",
       "    </tr>\n",
       "    <tr>\n",
       "      <th>101502</th>\n",
       "      <td>101503</td>\n",
       "      <td>0.374618</td>\n",
       "    </tr>\n",
       "  </tbody>\n",
       "</table>\n",
       "<p>101503 rows × 2 columns</p>\n",
       "</div>"
      ],
      "text/plain": [
       "            Id  Probability\n",
       "0            1     0.370951\n",
       "1            2     0.390467\n",
       "2            3     0.316596\n",
       "3            4     0.373084\n",
       "4            5     0.364910\n",
       "...        ...          ...\n",
       "101498  101499     0.325472\n",
       "101499  101500     0.456091\n",
       "101500  101501     0.310513\n",
       "101501  101502     0.411790\n",
       "101502  101503     0.374618\n",
       "\n",
       "[101503 rows x 2 columns]"
      ]
     },
     "execution_count": 63,
     "metadata": {},
     "output_type": "execute_result"
    }
   ],
   "source": [
    "sampleEn['Probability'] = probs.tolist() \n",
    "sampleEn"
   ]
  },
  {
   "cell_type": "code",
   "execution_count": 64,
   "id": "d6271c2b",
   "metadata": {
    "execution": {
     "iopub.execute_input": "2023-10-31T08:58:46.224297Z",
     "iopub.status.busy": "2023-10-31T08:58:46.223622Z",
     "iopub.status.idle": "2023-10-31T08:58:46.626458Z",
     "shell.execute_reply": "2023-10-31T08:58:46.625522Z"
    },
    "papermill": {
     "duration": 0.452432,
     "end_time": "2023-10-31T08:58:46.628939",
     "exception": false,
     "start_time": "2023-10-31T08:58:46.176507",
     "status": "completed"
    },
    "tags": []
   },
   "outputs": [],
   "source": [
    "sampleEn.to_csv('/kaggle/working/submission_Komang.csv',index=False)"
   ]
  }
 ],
 "metadata": {
  "kernelspec": {
   "display_name": "Python 3",
   "language": "python",
   "name": "python3"
  },
  "language_info": {
   "codemirror_mode": {
    "name": "ipython",
    "version": 3
   },
   "file_extension": ".py",
   "mimetype": "text/x-python",
   "name": "python",
   "nbconvert_exporter": "python",
   "pygments_lexer": "ipython3",
   "version": "3.10.12"
  },
  "papermill": {
   "default_parameters": {},
   "duration": 235.483443,
   "end_time": "2023-10-31T08:58:47.297262",
   "environment_variables": {},
   "exception": null,
   "input_path": "__notebook__.ipynb",
   "output_path": "__notebook__.ipynb",
   "parameters": {},
   "start_time": "2023-10-31T08:54:51.813819",
   "version": "2.4.0"
  }
 },
 "nbformat": 4,
 "nbformat_minor": 5
}
